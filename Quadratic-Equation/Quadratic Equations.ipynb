{
 "cells": [
  {
   "cell_type": "markdown",
   "metadata": {},
   "source": [
    "# Quadratic Equations\n",
    "> A quadratic equation is a second-order polynomial equation in a single variable x.\n",
    "$$ax + bx + c = 0$$<br><br>\n",
    "with a$\\neq$0. Because it is a second-order polynomial equation, the fundamental theorem of algebra guarantees that it has two solutions. These solutions may be both real, or both complex.[$^1$](http://mathworld.wolfram.com/QuadraticEquation.html) \n",
    "\n",
    "> The general quadratic equation in one variable is $ax^2 + bx + c = 0$, in which a, b, and c are arbitrary constants (or parameters) and a is not equal to 0. Such an equation has two roots (not necessarily distinct), as given by the quadratic formula\n",
    "$$x = \\frac{-b \\pm \\sqrt{b^2 - 4c}} {2a}$$\n",
    "The discriminant $b2 − 4ac$ gives information concerning the nature of the roots.[$^2$](https://www.britannica.com/science/quadratic-equation)\n",
    "\n",
    "> y in vertex form: $y = a(x - h)^2 + k$ ----> vertex (h, k)\n",
    "- To find h ------> $h = - \\frac{b}{2a}$\n",
    "- T find k -------> \n",
    "\n",
    "#### Example problem:\n",
    "$$y = x^2 - 8x +16$$\n",
    "\n",
    "$--------$\n",
    "1. \"Quadratic Equation,\" From Wolfram MathWorld, , accessed April 20, 2019, http://mathworld.wolfram.com/QuadraticEquation.html.\n",
    "\n",
    "2. The Editors of Encyclopaedia Britannica, \"Quadratic Equation,\" Encyclopædia Britannica, January 15, 2017, , accessed April 20, 2019, https://www.britannica.com/science/quadratic-equation."
   ]
  },
  {
   "cell_type": "code",
   "execution_count": 1,
   "metadata": {},
   "outputs": [],
   "source": [
    "#Import libraries\n",
    "from sympy import *\n",
    "#init_printing()\n",
    "init_printing(use_unicode=False, wrap_line=False)\n",
    "#init_printing(use_unicode=True)\n",
    "import numpy as np\n",
    "import math\n",
    "from math import floor, ceil, log, sqrt\n",
    "import pandas as pd\n",
    "from matplotlib import pyplot as plt\n",
    "from matplotlib.pyplot import figure\n",
    "from matplotlib.pyplot import xticks\n",
    "from matplotlib.pyplot import yticks\n",
    "from statistics import mean\n",
    "from random import randint"
   ]
  },
  {
   "cell_type": "code",
   "execution_count": 2,
   "metadata": {},
   "outputs": [
    {
     "data": {
      "image/png": "[encoded data removed]",
      "text/latex": [
       "$$x^{2} - 8 x + 16$$"
      ],
      "text/plain": [
       " 2           \n",
       "x  - 8*x + 16"
      ]
     },
     "execution_count": 2,
     "metadata": {},
     "output_type": "execute_result"
    }
   ],
   "source": [
    "#Initialize variable\n",
    "var('x')\n",
    "#Solve\n",
    "y = x**2 - 8*x + 16\n",
    "#y = 2*x**2 + 2*x -4\n",
    "y"
   ]
  },
  {
   "cell_type": "code",
   "execution_count": 3,
   "metadata": {},
   "outputs": [
    {
     "name": "stdout",
     "output_type": "stream",
     "text": [
      "Coefficient of x**2 - 8*x + 16: [1, -8, 16]\n"
     ]
    }
   ],
   "source": [
    "#Extract coefficient\n",
    "coeff = Poly(y, x)\n",
    "extract = coeff.coeffs()\n",
    "#extract_coeff.all_coeffs() #all_coeffs() including 0 while coeffs() disregard 0\n",
    "print('Coefficient of {}: {}'.format(y, coeff.all_coeffs()))"
   ]
  },
  {
   "cell_type": "code",
   "execution_count": 4,
   "metadata": {},
   "outputs": [
    {
     "name": "stdout",
     "output_type": "stream",
     "text": [
      "Vertex:  [4]\n"
     ]
    }
   ],
   "source": [
    "#Solve for the vertex (h, k) of quadratic equation\n",
    "quad = solve(y)\n",
    "#Facors\n",
    "factorized = factor(y)\n",
    "# Roots\n",
    "root = np.roots(extract)\n",
    "print('Vertex: ', quad)\n"
   ]
  },
  {
   "cell_type": "code",
   "execution_count": 5,
   "metadata": {},
   "outputs": [
    {
     "data": {
      "image/png": "[encoded data removed]",
      "text/latex": [
       "$$\\left(x - 4\\right)^{2}$$"
      ],
      "text/plain": [
       "       2\n",
       "(x - 4) "
      ]
     },
     "execution_count": 5,
     "metadata": {},
     "output_type": "execute_result"
    }
   ],
   "source": [
    "factorized"
   ]
  },
  {
   "cell_type": "code",
   "execution_count": 6,
   "metadata": {},
   "outputs": [
    {
     "data": {
      "text/plain": [
       "array([4., 4.])"
      ]
     },
     "execution_count": 6,
     "metadata": {},
     "output_type": "execute_result"
    }
   ],
   "source": [
    "root"
   ]
  },
  {
   "cell_type": "code",
   "execution_count": 7,
   "metadata": {},
   "outputs": [
    {
     "data": {
      "text/html": [
       "<div>\n",
       "<style scoped>\n",
       "    .dataframe tbody tr th:only-of-type {\n",
       "        vertical-align: middle;\n",
       "    }\n",
       "\n",
       "    .dataframe tbody tr th {\n",
       "        vertical-align: top;\n",
       "    }\n",
       "\n",
       "    .dataframe thead th {\n",
       "        text-align: right;\n",
       "    }\n",
       "</style>\n",
       "<table border=\"1\" class=\"dataframe\">\n",
       "  <thead>\n",
       "    <tr style=\"text-align: right;\">\n",
       "      <th></th>\n",
       "      <th>x</th>\n",
       "      <th>y</th>\n",
       "    </tr>\n",
       "  </thead>\n",
       "  <tbody>\n",
       "    <tr>\n",
       "      <th>0</th>\n",
       "      <td>-9</td>\n",
       "      <td>169</td>\n",
       "    </tr>\n",
       "    <tr>\n",
       "      <th>1</th>\n",
       "      <td>-8</td>\n",
       "      <td>144</td>\n",
       "    </tr>\n",
       "    <tr>\n",
       "      <th>2</th>\n",
       "      <td>-7</td>\n",
       "      <td>121</td>\n",
       "    </tr>\n",
       "    <tr>\n",
       "      <th>3</th>\n",
       "      <td>-6</td>\n",
       "      <td>100</td>\n",
       "    </tr>\n",
       "    <tr>\n",
       "      <th>4</th>\n",
       "      <td>-5</td>\n",
       "      <td>81</td>\n",
       "    </tr>\n",
       "    <tr>\n",
       "      <th>5</th>\n",
       "      <td>-4</td>\n",
       "      <td>64</td>\n",
       "    </tr>\n",
       "    <tr>\n",
       "      <th>6</th>\n",
       "      <td>-3</td>\n",
       "      <td>49</td>\n",
       "    </tr>\n",
       "    <tr>\n",
       "      <th>7</th>\n",
       "      <td>-2</td>\n",
       "      <td>36</td>\n",
       "    </tr>\n",
       "    <tr>\n",
       "      <th>8</th>\n",
       "      <td>-1</td>\n",
       "      <td>25</td>\n",
       "    </tr>\n",
       "    <tr>\n",
       "      <th>9</th>\n",
       "      <td>0</td>\n",
       "      <td>16</td>\n",
       "    </tr>\n",
       "    <tr>\n",
       "      <th>10</th>\n",
       "      <td>1</td>\n",
       "      <td>9</td>\n",
       "    </tr>\n",
       "    <tr>\n",
       "      <th>11</th>\n",
       "      <td>2</td>\n",
       "      <td>4</td>\n",
       "    </tr>\n",
       "    <tr>\n",
       "      <th>12</th>\n",
       "      <td>3</td>\n",
       "      <td>1</td>\n",
       "    </tr>\n",
       "    <tr>\n",
       "      <th>13</th>\n",
       "      <td>4</td>\n",
       "      <td>0</td>\n",
       "    </tr>\n",
       "    <tr>\n",
       "      <th>14</th>\n",
       "      <td>5</td>\n",
       "      <td>1</td>\n",
       "    </tr>\n",
       "    <tr>\n",
       "      <th>15</th>\n",
       "      <td>6</td>\n",
       "      <td>4</td>\n",
       "    </tr>\n",
       "    <tr>\n",
       "      <th>16</th>\n",
       "      <td>7</td>\n",
       "      <td>9</td>\n",
       "    </tr>\n",
       "    <tr>\n",
       "      <th>17</th>\n",
       "      <td>8</td>\n",
       "      <td>16</td>\n",
       "    </tr>\n",
       "  </tbody>\n",
       "</table>\n",
       "</div>"
      ],
      "text/plain": [
       "    x    y\n",
       "0  -9  169\n",
       "1  -8  144\n",
       "2  -7  121\n",
       "3  -6  100\n",
       "4  -5   81\n",
       "5  -4   64\n",
       "6  -3   49\n",
       "7  -2   36\n",
       "8  -1   25\n",
       "9   0   16\n",
       "10  1    9\n",
       "11  2    4\n",
       "12  3    1\n",
       "13  4    0\n",
       "14  5    1\n",
       "15  6    4\n",
       "16  7    9\n",
       "17  8   16"
      ]
     },
     "execution_count": 7,
     "metadata": {},
     "output_type": "execute_result"
    }
   ],
   "source": [
    "df = pd.DataFrame({'x': range(-9, 9)})\n",
    "df['y'] = df['x']**2 - 8*df['x'] + 16\n",
    "#df['y'] = 2*df['x']**2 + 2*df['x'] -4\n",
    "#Find the slope and y-intercept\n",
    "m, b = np.polyfit(df.x, df.y, 1)\n",
    "df"
   ]
  },
  {
   "cell_type": "code",
   "execution_count": 8,
   "metadata": {},
   "outputs": [
    {
     "data": {
      "image/png": "[encoded data removed]",
      "text/latex": [
       "$$-9.000000000000004$$"
      ],
      "text/plain": [
       "-9.000000000000004"
      ]
     },
     "execution_count": 8,
     "metadata": {},
     "output_type": "execute_result"
    }
   ],
   "source": [
    "m"
   ]
  },
  {
   "cell_type": "code",
   "execution_count": 9,
   "metadata": {},
   "outputs": [
    {
     "data": {
      "image/png": "[encoded data removed]",
      "text/latex": [
       "$$42.66666666666664$$"
      ],
      "text/plain": [
       "42.66666666666664"
      ]
     },
     "execution_count": 9,
     "metadata": {},
     "output_type": "execute_result"
    }
   ],
   "source": [
    "b"
   ]
  },
  {
   "cell_type": "code",
   "execution_count": 10,
   "metadata": {},
   "outputs": [
    {
     "data": {
      "image/png": "[encoded data removed]",
      "text/plain": [
       "<Figure size 640x480 with 1 Axes>"
      ]
     },
     "metadata": {},
     "output_type": "display_data"
    }
   ],
   "source": [
    "%matplotlib inline\n",
    "figure(num=None, figsize=(8, 6), dpi=80, facecolor='w', edgecolor='k')\n",
    "plt.plot(df.x, df.y, linestyle='None', marker='o', label='{}'.format(y))\n",
    "plt.legend(loc='upper right')\n",
    "plt.xlabel('X')\n",
    "plt.ylabel('Y')\n",
    "plt.title('Graph of {}'.format(y))\n",
    "xticks(df.x)\n",
    "#yticks(df.y)\n",
    "plt.axhline()\n",
    "plt.axvline()\n",
    "plt.show()\n",
    "\n"
   ]
  },
  {
   "cell_type": "code",
   "execution_count": null,
   "metadata": {},
   "outputs": [],
   "source": []
  },
  {
   "cell_type": "code",
   "execution_count": null,
   "metadata": {},
   "outputs": [],
   "source": []
  },
  {
   "cell_type": "code",
   "execution_count": null,
   "metadata": {},
   "outputs": [],
   "source": []
  }
 ],
 "metadata": {
  "kernelspec": {
   "display_name": "Python 3",
   "language": "python",
   "name": "python3"
  },
  "language_info": {
   "codemirror_mode": {
    "name": "ipython",
    "version": 3
   },
   "file_extension": ".py",
   "mimetype": "text/x-python",
   "name": "python",
   "nbconvert_exporter": "python",
   "pygments_lexer": "ipython3",
   "version": "3.6.8"
  }
 },
 "nbformat": 4,
 "nbformat_minor": 2
}
