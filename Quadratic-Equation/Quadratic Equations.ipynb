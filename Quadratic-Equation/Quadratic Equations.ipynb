{
 "cells": [
  {
   "cell_type": "markdown",
   "metadata": {},
   "source": [
    "# Quadratic Equations\n",
    "> A quadratic equation is a second-order polynomial equation in a single variable x.\n",
    "$$ax + bx + c = 0$$<br><br>\n",
    "with a$\\neq$0. Because it is a second-order polynomial equation, the fundamental theorem of algebra guarantees that it has two solutions. These solutions may be both real, or both complex.[$^1$](http://mathworld.wolfram.com/QuadraticEquation.html) \n",
    "\n",
    "> The general quadratic equation in one variable is $ax^2 + bx + c = 0$, in which a, b, and c are arbitrary constants (or parameters) and a is not equal to 0. Such an equation has two roots (not necessarily distinct), as given by the quadratic formula\n",
    "$$x = \\frac{-b \\pm \\sqrt{b^2 - 4ac}} {2a}$$\n",
    "The discriminant $b^2 − 4ac$ gives information concerning the nature of the roots.[$^2$](https://www.britannica.com/science/quadratic-equation)\n",
    "\n",
    "> y in vertex form: $y = a(x - h)^2 + k$ ----> vertex (h, k)\n",
    "- $h = - \\frac{b}{2a}$ or the axis of symmetry or the x coordinates <br><br>\n",
    "- $k = \\frac{4ac - b^2}{4a}$\n",
    "- a < 0 == vertex is max point\n",
    "- a > 0 == vertex min point\n",
    "- Domain are all x values as part of the graph $(-\\infty, \\infty)$\n",
    "- Range are the y values\n",
    "#### Example problem: Vertex and Line Symmetry\n",
    "$$y = x^2 - 8x +16$$\n",
    "\n",
    "$--------$\n",
    "1. \"Quadratic Equation,\" From Wolfram MathWorld, , accessed April 20, 2019, http://mathworld.wolfram.com/QuadraticEquation.html.\n",
    "\n",
    "2. The Editors of Encyclopaedia Britannica, \"Quadratic Equation,\" Encyclopædia Britannica, January 15, 2017, , accessed April 20, 2019, https://www.britannica.com/science/quadratic-equation."
   ]
  },
  {
   "cell_type": "code",
   "execution_count": 1,
   "metadata": {},
   "outputs": [],
   "source": [
    "#Import libraries\n",
    "from sympy import *\n",
    "#init_printing()\n",
    "init_printing(use_unicode=False, wrap_line=False)\n",
    "#init_printing(use_unicode=True)\n",
    "import numpy as np\n",
    "import math\n",
    "from math import floor, ceil, log, sqrt\n",
    "import pandas as pd\n",
    "from matplotlib import pyplot as plt\n",
    "from matplotlib.pyplot import figure\n",
    "from matplotlib.pyplot import xticks\n",
    "from matplotlib.pyplot import yticks\n",
    "from statistics import mean\n",
    "from random import randint"
   ]
  },
  {
   "cell_type": "code",
   "execution_count": 2,
   "metadata": {},
   "outputs": [
    {
     "data": {
      "image/png": "[encoded data removed]",
      "text/latex": [
       "$$x^{2} - 8 x + 16$$"
      ],
      "text/plain": [
       " 2           \n",
       "x  - 8*x + 16"
      ]
     },
     "execution_count": 2,
     "metadata": {},
     "output_type": "execute_result"
    }
   ],
   "source": [
    "#Initialize variable\n",
    "var('x')\n",
    "#Solve\n",
    "y = x**2 - 8*x + 16\n",
    "#y = 2*x**2 + 2*x -4\n",
    "y"
   ]
  },
  {
   "cell_type": "code",
   "execution_count": 3,
   "metadata": {},
   "outputs": [
    {
     "name": "stdout",
     "output_type": "stream",
     "text": [
      "Coefficient of x**2 - 8*x + 16: [1, -8, 16]\n"
     ]
    }
   ],
   "source": [
    "#Extract coefficient\n",
    "coeff = Poly(y, x)\n",
    "extract = coeff.coeffs()\n",
    "#extract_coeff.all_coeffs() #all_coeffs() including 0 while coeffs() disregard 0\n",
    "print('Coefficient of {}: {}'.format(y, coeff.all_coeffs()))"
   ]
  },
  {
   "cell_type": "code",
   "execution_count": 4,
   "metadata": {},
   "outputs": [
    {
     "name": "stdout",
     "output_type": "stream",
     "text": [
      "Vertex:  [4]\n"
     ]
    }
   ],
   "source": [
    "#Solve for the vertex (h, k) of quadratic equation\n",
    "quad = solve(y)\n",
    "#Facors\n",
    "factorized = factor(y)\n",
    "# Roots\n",
    "root = np.roots(extract)\n",
    "print('Vertex: ', quad)\n"
   ]
  },
  {
   "cell_type": "code",
   "execution_count": 5,
   "metadata": {},
   "outputs": [
    {
     "data": {
      "image/png": "[encoded data removed]",
      "text/latex": [
       "$$\\left(x - 4\\right)^{2}$$"
      ],
      "text/plain": [
       "       2\n",
       "(x - 4) "
      ]
     },
     "execution_count": 5,
     "metadata": {},
     "output_type": "execute_result"
    }
   ],
   "source": [
    "factorized"
   ]
  },
  {
   "cell_type": "code",
   "execution_count": 6,
   "metadata": {},
   "outputs": [
    {
     "data": {
      "text/plain": [
       "array([4., 4.])"
      ]
     },
     "execution_count": 6,
     "metadata": {},
     "output_type": "execute_result"
    }
   ],
   "source": [
    "root"
   ]
  },
  {
   "cell_type": "code",
   "execution_count": 7,
   "metadata": {},
   "outputs": [
    {
     "data": {
      "image/png": "[encoded data removed]",
      "text/latex": [
       "$$4.0$$"
      ],
      "text/plain": [
       "4.0"
      ]
     },
     "execution_count": 7,
     "metadata": {},
     "output_type": "execute_result"
    }
   ],
   "source": [
    "# h = -b/2a where a = 1 b = -8 c = 16\n",
    "h = -1*(-8)/2*(1)\n",
    "h"
   ]
  },
  {
   "cell_type": "code",
   "execution_count": 8,
   "metadata": {},
   "outputs": [
    {
     "data": {
      "image/png": "[encoded data removed]",
      "text/latex": [
       "$$\\frac{4 a c - b^{2}}{4 a}$$"
      ],
      "text/plain": [
       "         2\n",
       "4*a*c - b \n",
       "----------\n",
       "   4*a    "
      ]
     },
     "execution_count": 8,
     "metadata": {},
     "output_type": "execute_result"
    }
   ],
   "source": [
    "#k = 4ac -b^2 / 4a\n",
    "var('a b c')\n",
    "k = (4*a*c - (b**2)) / (4*a)\n",
    "k\n",
    "# substitute h to x in y = x**2 - 8*x + 16 \n"
   ]
  },
  {
   "cell_type": "code",
   "execution_count": 9,
   "metadata": {},
   "outputs": [
    {
     "data": {
      "image/png": "[encoded data removed]",
      "text/latex": [
       "$$0$$"
      ],
      "text/plain": [
       "0"
      ]
     },
     "execution_count": 9,
     "metadata": {},
     "output_type": "execute_result"
    }
   ],
   "source": [
    "# use the formula for k = 4ac -b^2 /4a or \n",
    "# substitute h to x in y = x**2 - 8*x + 16 \n",
    "k = k.subs({a: 1, b: -8, c: 16})\n",
    "#k\n",
    "k1 = 4**2 -8*4 + 16\n",
    "k1"
   ]
  },
  {
   "cell_type": "code",
   "execution_count": 10,
   "metadata": {},
   "outputs": [],
   "source": [
    "%matplotlib inline\n",
    "def plot_parabola(a, b, c):\n",
    "     # get the x value for the line of symmetry\n",
    "    vx = (-1*b)/(2*a)\n",
    "    \n",
    "    # get the y value when x is at the line of symmetry\n",
    "    vy = a*vx**2 + b*vx + c\n",
    "    \n",
    "    # Create a dataframe with an x column containing values from x-10 to x+10\n",
    "    \n",
    "    minx = int(vx - 10)\n",
    "    maxx = int(vx + 10)\n",
    "    \n",
    "    df1 = pd.DataFrame({'x1': range(minx, maxx)})\n",
    "    #df1['y'] = df1['x1']**2 - 8*df1['x1'] + 16\n",
    "    # Add a y column by applying the quadratic equation to x\n",
    "    df1['y1'] = a*df1['x1']**2 + b*df1['x1'] + c\n",
    "    # get min and max y values\n",
    "    miny = df1.y1.min()\n",
    "    maxy = df1.y1.max()\n",
    "    \n",
    "     # Plot the line\n",
    "    plt.plot(df1.x1, df1.y1, color=\"grey\", marker='o')\n",
    "    plt.xlabel('x')\n",
    "    plt.ylabel('y')\n",
    "    plt.grid()\n",
    "    plt.axhline()\n",
    "    plt.axvline()\n",
    "\n",
    "    # plot the line of symmetry\n",
    "    sx = [vx, vx]\n",
    "    sy = [miny, maxy]\n",
    "    plt.plot(sx,sy, color='magenta')\n",
    "\n",
    "    # Annotate the vertex\n",
    "    plt.scatter(vx,vy, color=\"red\")\n",
    "    plt.annotate('vertex',(vx, vy), xytext=(vx - 1, (vy + 5)* np.sign(a)))\n",
    "\n",
    "    plt.show()\n",
    "    return df1\n",
    "    "
   ]
  },
  {
   "cell_type": "code",
   "execution_count": 11,
   "metadata": {},
   "outputs": [
    {
     "data": {
      "image/png": "[encoded data removed]",
      "text/plain": [
       "<Figure size 432x288 with 1 Axes>"
      ]
     },
     "metadata": {
      "needs_background": "light"
     },
     "output_type": "display_data"
    },
    {
     "data": {
      "text/html": [
       "<div>\n",
       "<style scoped>\n",
       "    .dataframe tbody tr th:only-of-type {\n",
       "        vertical-align: middle;\n",
       "    }\n",
       "\n",
       "    .dataframe tbody tr th {\n",
       "        vertical-align: top;\n",
       "    }\n",
       "\n",
       "    .dataframe thead th {\n",
       "        text-align: right;\n",
       "    }\n",
       "</style>\n",
       "<table border=\"1\" class=\"dataframe\">\n",
       "  <thead>\n",
       "    <tr style=\"text-align: right;\">\n",
       "      <th></th>\n",
       "      <th>x1</th>\n",
       "      <th>y1</th>\n",
       "    </tr>\n",
       "  </thead>\n",
       "  <tbody>\n",
       "    <tr>\n",
       "      <th>0</th>\n",
       "      <td>-6</td>\n",
       "      <td>100</td>\n",
       "    </tr>\n",
       "    <tr>\n",
       "      <th>1</th>\n",
       "      <td>-5</td>\n",
       "      <td>81</td>\n",
       "    </tr>\n",
       "    <tr>\n",
       "      <th>2</th>\n",
       "      <td>-4</td>\n",
       "      <td>64</td>\n",
       "    </tr>\n",
       "    <tr>\n",
       "      <th>3</th>\n",
       "      <td>-3</td>\n",
       "      <td>49</td>\n",
       "    </tr>\n",
       "    <tr>\n",
       "      <th>4</th>\n",
       "      <td>-2</td>\n",
       "      <td>36</td>\n",
       "    </tr>\n",
       "    <tr>\n",
       "      <th>5</th>\n",
       "      <td>-1</td>\n",
       "      <td>25</td>\n",
       "    </tr>\n",
       "    <tr>\n",
       "      <th>6</th>\n",
       "      <td>0</td>\n",
       "      <td>16</td>\n",
       "    </tr>\n",
       "    <tr>\n",
       "      <th>7</th>\n",
       "      <td>1</td>\n",
       "      <td>9</td>\n",
       "    </tr>\n",
       "    <tr>\n",
       "      <th>8</th>\n",
       "      <td>2</td>\n",
       "      <td>4</td>\n",
       "    </tr>\n",
       "    <tr>\n",
       "      <th>9</th>\n",
       "      <td>3</td>\n",
       "      <td>1</td>\n",
       "    </tr>\n",
       "    <tr>\n",
       "      <th>10</th>\n",
       "      <td>4</td>\n",
       "      <td>0</td>\n",
       "    </tr>\n",
       "    <tr>\n",
       "      <th>11</th>\n",
       "      <td>5</td>\n",
       "      <td>1</td>\n",
       "    </tr>\n",
       "    <tr>\n",
       "      <th>12</th>\n",
       "      <td>6</td>\n",
       "      <td>4</td>\n",
       "    </tr>\n",
       "    <tr>\n",
       "      <th>13</th>\n",
       "      <td>7</td>\n",
       "      <td>9</td>\n",
       "    </tr>\n",
       "    <tr>\n",
       "      <th>14</th>\n",
       "      <td>8</td>\n",
       "      <td>16</td>\n",
       "    </tr>\n",
       "    <tr>\n",
       "      <th>15</th>\n",
       "      <td>9</td>\n",
       "      <td>25</td>\n",
       "    </tr>\n",
       "    <tr>\n",
       "      <th>16</th>\n",
       "      <td>10</td>\n",
       "      <td>36</td>\n",
       "    </tr>\n",
       "    <tr>\n",
       "      <th>17</th>\n",
       "      <td>11</td>\n",
       "      <td>49</td>\n",
       "    </tr>\n",
       "    <tr>\n",
       "      <th>18</th>\n",
       "      <td>12</td>\n",
       "      <td>64</td>\n",
       "    </tr>\n",
       "    <tr>\n",
       "      <th>19</th>\n",
       "      <td>13</td>\n",
       "      <td>81</td>\n",
       "    </tr>\n",
       "  </tbody>\n",
       "</table>\n",
       "</div>"
      ],
      "text/plain": [
       "    x1   y1\n",
       "0   -6  100\n",
       "1   -5   81\n",
       "2   -4   64\n",
       "3   -3   49\n",
       "4   -2   36\n",
       "5   -1   25\n",
       "6    0   16\n",
       "7    1    9\n",
       "8    2    4\n",
       "9    3    1\n",
       "10   4    0\n",
       "11   5    1\n",
       "12   6    4\n",
       "13   7    9\n",
       "14   8   16\n",
       "15   9   25\n",
       "16  10   36\n",
       "17  11   49\n",
       "18  12   64\n",
       "19  13   81"
      ]
     },
     "execution_count": 11,
     "metadata": {},
     "output_type": "execute_result"
    }
   ],
   "source": [
    "plot_parabola(1, -8, 16)"
   ]
  },
  {
   "cell_type": "markdown",
   "metadata": {},
   "source": [
    "Sample problem:\n",
    "- [Find the vertex of $d = 3f^2 + f – 2$ and graph the parabola.](https://www.purplemath.com/modules/grphquad2.htm)\n"
   ]
  },
  {
   "cell_type": "code",
   "execution_count": 12,
   "metadata": {},
   "outputs": [],
   "source": [
    "# Find the vertex where a = 3 b = 1 c = -2\n",
    "var('f a b c')\n",
    "d = 3*f**2 + f -2\n",
    "dEq = (-1*b)/(2*a)\n",
    "quadratic_form = a*x**2 + b*x + c\n",
    "vert_form = (4*a*c - (b**2)) / (4*a)\n",
    "#x-coordinate of vertex\n",
    "vertex_x = dEq.subs({b: 1, a: 3})\n",
    "#y-coordinate of vertex through substitution\n",
    "vertex_y = quadratic_form.subs({a:3, b:1, c:-2, x: vertex_x})\n",
    "vertex_y1 = vert_form.subs({a:3, b:1, c:-2})"
   ]
  },
  {
   "cell_type": "code",
   "execution_count": 13,
   "metadata": {},
   "outputs": [
    {
     "name": "stdout",
     "output_type": "stream",
     "text": [
      "Vertex of 3*f**2 + f - 2: (-1/6, -25/12)\n"
     ]
    }
   ],
   "source": [
    "print('Vertex of {}: ({}, {})'.format(d, vertex_x, vertex_y))\n",
    "#(h, k) -----> (-1/6, -25/12)"
   ]
  },
  {
   "cell_type": "code",
   "execution_count": 14,
   "metadata": {},
   "outputs": [
    {
     "data": {
      "image/png": "[encoded data removed]",
      "text/latex": [
       "$$\\left [ -1, \\quad \\frac{2}{3}\\right ]$$"
      ],
      "text/plain": [
       "[-1, 2/3]"
      ]
     },
     "execution_count": 14,
     "metadata": {},
     "output_type": "execute_result"
    }
   ],
   "source": [
    "quadratic_Eq = solve(d)\n",
    "quadratic_Eq"
   ]
  },
  {
   "cell_type": "code",
   "execution_count": 15,
   "metadata": {},
   "outputs": [
    {
     "data": {
      "image/png": "[encoded data removed]",
      "text/latex": [
       "$$- \\frac{25}{12}$$"
      ],
      "text/plain": [
       "-25 \n",
       "----\n",
       " 12 "
      ]
     },
     "execution_count": 15,
     "metadata": {},
     "output_type": "execute_result"
    }
   ],
   "source": [
    "vertex_y1"
   ]
  },
  {
   "cell_type": "code",
   "execution_count": 16,
   "metadata": {
    "scrolled": true
   },
   "outputs": [
    {
     "data": {
      "image/png": "[encoded data removed]",
      "text/plain": [
       "<Figure size 432x288 with 1 Axes>"
      ]
     },
     "metadata": {
      "needs_background": "light"
     },
     "output_type": "display_data"
    },
    {
     "data": {
      "text/html": [
       "<div>\n",
       "<style scoped>\n",
       "    .dataframe tbody tr th:only-of-type {\n",
       "        vertical-align: middle;\n",
       "    }\n",
       "\n",
       "    .dataframe tbody tr th {\n",
       "        vertical-align: top;\n",
       "    }\n",
       "\n",
       "    .dataframe thead th {\n",
       "        text-align: right;\n",
       "    }\n",
       "</style>\n",
       "<table border=\"1\" class=\"dataframe\">\n",
       "  <thead>\n",
       "    <tr style=\"text-align: right;\">\n",
       "      <th></th>\n",
       "      <th>x1</th>\n",
       "      <th>y1</th>\n",
       "    </tr>\n",
       "  </thead>\n",
       "  <tbody>\n",
       "    <tr>\n",
       "      <th>0</th>\n",
       "      <td>-10</td>\n",
       "      <td>288</td>\n",
       "    </tr>\n",
       "    <tr>\n",
       "      <th>1</th>\n",
       "      <td>-9</td>\n",
       "      <td>232</td>\n",
       "    </tr>\n",
       "    <tr>\n",
       "      <th>2</th>\n",
       "      <td>-8</td>\n",
       "      <td>182</td>\n",
       "    </tr>\n",
       "    <tr>\n",
       "      <th>3</th>\n",
       "      <td>-7</td>\n",
       "      <td>138</td>\n",
       "    </tr>\n",
       "    <tr>\n",
       "      <th>4</th>\n",
       "      <td>-6</td>\n",
       "      <td>100</td>\n",
       "    </tr>\n",
       "    <tr>\n",
       "      <th>5</th>\n",
       "      <td>-5</td>\n",
       "      <td>68</td>\n",
       "    </tr>\n",
       "    <tr>\n",
       "      <th>6</th>\n",
       "      <td>-4</td>\n",
       "      <td>42</td>\n",
       "    </tr>\n",
       "    <tr>\n",
       "      <th>7</th>\n",
       "      <td>-3</td>\n",
       "      <td>22</td>\n",
       "    </tr>\n",
       "    <tr>\n",
       "      <th>8</th>\n",
       "      <td>-2</td>\n",
       "      <td>8</td>\n",
       "    </tr>\n",
       "    <tr>\n",
       "      <th>9</th>\n",
       "      <td>-1</td>\n",
       "      <td>0</td>\n",
       "    </tr>\n",
       "    <tr>\n",
       "      <th>10</th>\n",
       "      <td>0</td>\n",
       "      <td>-2</td>\n",
       "    </tr>\n",
       "    <tr>\n",
       "      <th>11</th>\n",
       "      <td>1</td>\n",
       "      <td>2</td>\n",
       "    </tr>\n",
       "    <tr>\n",
       "      <th>12</th>\n",
       "      <td>2</td>\n",
       "      <td>12</td>\n",
       "    </tr>\n",
       "    <tr>\n",
       "      <th>13</th>\n",
       "      <td>3</td>\n",
       "      <td>28</td>\n",
       "    </tr>\n",
       "    <tr>\n",
       "      <th>14</th>\n",
       "      <td>4</td>\n",
       "      <td>50</td>\n",
       "    </tr>\n",
       "    <tr>\n",
       "      <th>15</th>\n",
       "      <td>5</td>\n",
       "      <td>78</td>\n",
       "    </tr>\n",
       "    <tr>\n",
       "      <th>16</th>\n",
       "      <td>6</td>\n",
       "      <td>112</td>\n",
       "    </tr>\n",
       "    <tr>\n",
       "      <th>17</th>\n",
       "      <td>7</td>\n",
       "      <td>152</td>\n",
       "    </tr>\n",
       "    <tr>\n",
       "      <th>18</th>\n",
       "      <td>8</td>\n",
       "      <td>198</td>\n",
       "    </tr>\n",
       "  </tbody>\n",
       "</table>\n",
       "</div>"
      ],
      "text/plain": [
       "    x1   y1\n",
       "0  -10  288\n",
       "1   -9  232\n",
       "2   -8  182\n",
       "3   -7  138\n",
       "4   -6  100\n",
       "5   -5   68\n",
       "6   -4   42\n",
       "7   -3   22\n",
       "8   -2    8\n",
       "9   -1    0\n",
       "10   0   -2\n",
       "11   1    2\n",
       "12   2   12\n",
       "13   3   28\n",
       "14   4   50\n",
       "15   5   78\n",
       "16   6  112\n",
       "17   7  152\n",
       "18   8  198"
      ]
     },
     "execution_count": 16,
     "metadata": {},
     "output_type": "execute_result"
    }
   ],
   "source": [
    "plot_parabola(3, 1, -2)"
   ]
  },
  {
   "cell_type": "code",
   "execution_count": 17,
   "metadata": {},
   "outputs": [
    {
     "data": {
      "image/png": "[encoded data removed]",
      "text/latex": [
       "$$\\left [ -1, \\quad \\frac{2}{3}\\right ]$$"
      ],
      "text/plain": [
       "[-1, 2/3]"
      ]
     },
     "execution_count": 17,
     "metadata": {},
     "output_type": "execute_result"
    }
   ],
   "source": [
    "#Solve for the vertex (h, k) of quadratic equation\n",
    "quad = solve(d)\n",
    "#Facors\n",
    "factorized = factor(d)\n",
    "# Roots\n",
    "quad"
   ]
  },
  {
   "cell_type": "code",
   "execution_count": 18,
   "metadata": {},
   "outputs": [],
   "source": [
    "g = 3*(-1)**2 + (-1) - 2"
   ]
  },
  {
   "cell_type": "code",
   "execution_count": 19,
   "metadata": {},
   "outputs": [
    {
     "data": {
      "image/png": "[encoded data removed]",
      "text/latex": [
       "$$0$$"
      ],
      "text/plain": [
       "0"
      ]
     },
     "execution_count": 19,
     "metadata": {},
     "output_type": "execute_result"
    }
   ],
   "source": [
    "g"
   ]
  },
  {
   "cell_type": "code",
   "execution_count": 20,
   "metadata": {},
   "outputs": [
    {
     "data": {
      "image/png": "[encoded data removed]",
      "text/latex": [
       "$$0.0$$"
      ],
      "text/plain": [
       "0.0"
      ]
     },
     "execution_count": 20,
     "metadata": {},
     "output_type": "execute_result"
    }
   ],
   "source": [
    "j = 3*(2/3)**2 + (2/3) - 2\n",
    "j"
   ]
  },
  {
   "cell_type": "code",
   "execution_count": 21,
   "metadata": {},
   "outputs": [
    {
     "data": {
      "image/png": "[encoded data removed]",
      "text/latex": [
       "$$\\frac{2}{3}$$"
      ],
      "text/plain": [
       "2/3"
      ]
     },
     "execution_count": 21,
     "metadata": {},
     "output_type": "execute_result"
    }
   ],
   "source": [
    "from sympy import *\n",
    "var('a b c')\n",
    "#Quadratic formula\n",
    "#a = 3 \n",
    "#b = 1 \n",
    "#c =-2\n",
    "\n",
    "final = (-b + sqrt((b**2) - (4*a*c)))/ (2*a)\n",
    "final1 = final.subs({a: 3, b: 1, c: -2})\n",
    "final1"
   ]
  },
  {
   "cell_type": "code",
   "execution_count": 22,
   "metadata": {},
   "outputs": [
    {
     "data": {
      "image/png": "[encoded data removed]",
      "text/latex": [
       "$$-1$$"
      ],
      "text/plain": [
       "-1"
      ]
     },
     "execution_count": 22,
     "metadata": {},
     "output_type": "execute_result"
    }
   ],
   "source": [
    "final = (-b - sqrt((b**2) - (4*a*c)))/ (2*a)\n",
    "final2 = final.subs({a: 3, b: 1, c: -2})\n",
    "final2\n"
   ]
  },
  {
   "cell_type": "code",
   "execution_count": null,
   "metadata": {},
   "outputs": [],
   "source": []
  }
 ],
 "metadata": {
  "kernelspec": {
   "display_name": "Python 3",
   "language": "python",
   "name": "python3"
  },
  "language_info": {
   "codemirror_mode": {
    "name": "ipython",
    "version": 3
   },
   "file_extension": ".py",
   "mimetype": "text/x-python",
   "name": "python",
   "nbconvert_exporter": "python",
   "pygments_lexer": "ipython3",
   "version": "3.6.8"
  }
 },
 "nbformat": 4,
 "nbformat_minor": 2
}
