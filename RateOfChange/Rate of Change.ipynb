{
 "cells": [
  {
   "cell_type": "markdown",
   "metadata": {},
   "source": [
    "# Rate of Change\n",
    "> Given a function f(x) plotted in the Cartesian plane as y=f(x), the average rate of change (or average rate of change function) of f from x to a is given by [$^1$](http://mathworld.wolfram.com/AverageRateofChange.html)  \n",
    "\n",
    "$$A(x, a) = \\frac{f(x) - f(a)}{x - a} $$\n",
    "\n",
    "- $A$ name of the average rate of change function\n",
    "- $x - a$ represents the change of the input of the function f\n",
    "- $f(x) - f(a)$ represents the change in the function f as the input changes from $a$ to $x$\n",
    "\n",
    "> This corresponds the the slope of the secant line connecting the points $(x,f(x))$ and $(a,f(a))$.[$^1$](http://mathworld.wolfram.com/AverageRateofChange.html)\n",
    "\n",
    "- The rate of change - ROC - is the speed at which a variable changes over a specific period of time. ROC is often used when speaking about momentum, and it can generally be expressed as a ratio between a change in one variable relative to a corresponding change in another; graphically, the rate of change is represented by the slope of a line. The ROC is often illustrated by the Greek letter delta.[$^2$](https://www.investopedia.com/terms/r/rateofchange.asp)\n",
    "\n",
    "- The Average Rate of Change function describes the average rate at which one quanity is changing with respect to something else changing. In general, an average rate a change function is a process that calculates the the amount of change in one item divided by the corresponding amount of change in another. Using function notation, we can define the Average rate of Change of a function f from a to x as[$^3$](https://www.mesacc.edu/~marfv02121/readings/average/)\n",
    "\n",
    "- The rate of change in linear equation does not vary(straight line) while the opposite is true for non-linear.\n",
    "\n",
    "Problem 1: $g(x) = x^3 -9x$<br><br>\n",
    "Problem 2: Find the average rate of change of $f(x) = \\frac{1}{3} x^2 - 4$ from 3 to 0 or [0, 3].\n",
    "\n",
    "\n",
    "--------\n",
    "\n",
    "1. \"Average Rate of Change,\" From Wolfram MathWorld, , accessed April 28, 2019, http://mathworld.wolfram.com/AverageRateofChange.html.\n",
    "\n",
    "2. James Chen, \"Rate of Change (ROC),\" Investopedia, April 08, 2019, , accessed April 30, 2019, https://www.investopedia.com/terms/r/rateofchange.asp.\n",
    "\n",
    "3. \"Average Rate of Change Function Instructor: Dr. Jo Steig,\" College Algebra - Average Rate of Change Function, , accessed April 30, 2019, https://www.mesacc.edu/~marfv02121/readings/average/.\n"
   ]
  },
  {
   "cell_type": "code",
   "execution_count": 1,
   "metadata": {},
   "outputs": [
    {
     "data": {
      "image/png": "[encoded data removed]",
      "text/plain": [
       "<Figure size 432x288 with 1 Axes>"
      ]
     },
     "metadata": {
      "needs_background": "light"
     },
     "output_type": "display_data"
    },
    {
     "name": "stdout",
     "output_type": "stream",
     "text": [
      "    x    y      z\n",
      "0  -5  -80    NaN\n",
      "1  -4  -28   52.0\n",
      "2  -3    0   28.0\n",
      "3  -2   10   10.0\n",
      "4  -1    8   -2.0\n",
      "5   0    0   -8.0\n",
      "6   1   -8   -8.0\n",
      "7   2  -10   -2.0\n",
      "8   3    0   10.0\n",
      "9   4   28   28.0\n",
      "10  5   80   52.0\n",
      "11  6  162   82.0\n",
      "12  7  280  118.0\n"
     ]
    }
   ],
   "source": [
    "import numpy as np\n",
    "from matplotlib import pyplot as plt\n",
    "import pandas as pd\n",
    "import csv\n",
    "\n",
    "#g(x) = x^3 - 9x\n",
    "\n",
    "def g(x):\n",
    "    return x**3 -9*x\n",
    "\n",
    "\n",
    "#Recursive function\n",
    "def factorial(x):\n",
    "    if x == 1:\n",
    "        return 1\n",
    "    else:\n",
    "        return(x * (factorial(x -1)))\n",
    "\n",
    "\n",
    "#file = open('data.csv', mode='w')\n",
    "#writer = csv.writer(file, delimiter=\"|\", quotechar='\"', quoting=csv.QUOTE_MINIMAL)\n",
    "#writer.writerow([' x ', ' factorial(x) '])\n",
    "#for i in range(-5, 5):\n",
    "    #y = g(i)\n",
    "    #writer.writerow([i, y])\n",
    "    \n",
    "#file.close()\n",
    "\n",
    "#df = pd.read_csv('data.csv')\n",
    "#df\n",
    "\n",
    "\n",
    "df = pd.DataFrame({'x': range(-5, 8)})\n",
    "#df['y'] = df['x']**3 -9*df['x']\n",
    "df['y'] = g(df['x'])\n",
    "#Get rate of change with diff()\n",
    "df['z'] = df['y'].diff()\n",
    "#x = np.array(range(-5, 8))\n",
    "\n",
    "# Create an array for the secant line\n",
    "secant = np.array([-5,7])\n",
    "\n",
    "%matplotlib inline\n",
    "#plt.plot(x, y, color='m', marker='o')\n",
    "plt.plot(df.x, df.y, color='m', marker='o')\n",
    "plt.plot(df.x, df.z, color='y', marker='o')\n",
    "plt.plot(secant, g(secant), color='g')\n",
    "plt.xlabel('x')\n",
    "plt.ylabel('y')\n",
    "#Find the slope\n",
    "m, b = np.polyfit(df.x, df.y, 1)\n",
    "#m, b = np.polyfit(x, g(x), 1)\n",
    "plt.xlabel('x')\n",
    "plt.ylabel('y and z')\n",
    "plt.legend(['y', 'z', 'secant'])\n",
    "plt.xticks()\n",
    "plt.yticks()\n",
    "plt.grid()\n",
    "plt.show()\n",
    "print(df)\n",
    "\n",
    "\n",
    "#Changes in rate %\n",
    "g_series = pd.Series(g(df.x))\n",
    "percent = g_series.pct_change()\n",
    "change = percent * 100\n",
    "#change\n"
   ]
  },
  {
   "cell_type": "code",
   "execution_count": 2,
   "metadata": {},
   "outputs": [
    {
     "data": {
      "text/plain": [
       "19.0"
      ]
     },
     "execution_count": 2,
     "metadata": {},
     "output_type": "execute_result"
    }
   ],
   "source": [
    "m"
   ]
  },
  {
   "cell_type": "code",
   "execution_count": 3,
   "metadata": {},
   "outputs": [
    {
     "data": {
      "text/plain": [
       "15.000000000000004"
      ]
     },
     "execution_count": 3,
     "metadata": {},
     "output_type": "execute_result"
    }
   ],
   "source": [
    "b"
   ]
  },
  {
   "cell_type": "code",
   "execution_count": 4,
   "metadata": {},
   "outputs": [
    {
     "data": {
      "image/png": "[encoded data removed]",
      "text/plain": [
       "<Figure size 640x480 with 1 Axes>"
      ]
     },
     "metadata": {},
     "output_type": "display_data"
    }
   ],
   "source": [
    "#Problem 2: f(x) = 1/3x^2 - 4\n",
    "\n",
    "import numpy as np\n",
    "from matplotlib import pyplot as plt\n",
    "from matplotlib.pyplot import figure\n",
    "from matplotlib.pyplot import xticks, yticks\n",
    "\n",
    "import sympy\n",
    "from sympy import symbols, Subs\n",
    "import pandas as pd\n",
    "\n",
    "def f(x):\n",
    "    return (1/3) * x**2 - 4\n",
    "\n",
    "df = pd.DataFrame({'x': range(-5, 5)})\n",
    "df['y'] = round(f(df['x']))\n",
    "\n",
    "#df['z'] == rate of change\n",
    "df['z'] = df['y'].diff()\n",
    "secant = np.array([-5,4])\n",
    "\n",
    "\n",
    "slope, yInt = np.polyfit(df.x, df.y, 1) \n",
    "\n",
    "\n",
    "%matplotlib inline\n",
    "figure(num=None, figsize=(8, 6), dpi=80, facecolor='w', edgecolor='k')\n",
    "plt.plot(df.x, df.y, '--m', marker='o')\n",
    "plt.plot(secant, f(secant), 'g')\n",
    "plt.axhline()\n",
    "plt.axvline()\n",
    "plt.xticks(df.x)\n",
    "plt.yticks()\n",
    "plt.grid()\n",
    "\n",
    "# plot the slope from the y-intercept for 1x\n",
    "mx = [0, 1]\n",
    "my = [yInt, yInt + slope]\n",
    "plt.scatter(mx,my, color='g', lw=5)\n",
    "plt.annotate('slope = ' + str(slope), (slope, yInt))\n",
    "\n",
    "plt.show()"
   ]
  },
  {
   "cell_type": "code",
   "execution_count": 5,
   "metadata": {},
   "outputs": [
    {
     "data": {
      "text/html": [
       "<div>\n",
       "<style scoped>\n",
       "    .dataframe tbody tr th:only-of-type {\n",
       "        vertical-align: middle;\n",
       "    }\n",
       "\n",
       "    .dataframe tbody tr th {\n",
       "        vertical-align: top;\n",
       "    }\n",
       "\n",
       "    .dataframe thead th {\n",
       "        text-align: right;\n",
       "    }\n",
       "</style>\n",
       "<table border=\"1\" class=\"dataframe\">\n",
       "  <thead>\n",
       "    <tr style=\"text-align: right;\">\n",
       "      <th></th>\n",
       "      <th>x</th>\n",
       "      <th>y</th>\n",
       "      <th>z</th>\n",
       "    </tr>\n",
       "  </thead>\n",
       "  <tbody>\n",
       "    <tr>\n",
       "      <th>0</th>\n",
       "      <td>-5</td>\n",
       "      <td>4.0</td>\n",
       "      <td>NaN</td>\n",
       "    </tr>\n",
       "    <tr>\n",
       "      <th>1</th>\n",
       "      <td>-4</td>\n",
       "      <td>1.0</td>\n",
       "      <td>-3.0</td>\n",
       "    </tr>\n",
       "    <tr>\n",
       "      <th>2</th>\n",
       "      <td>-3</td>\n",
       "      <td>-1.0</td>\n",
       "      <td>-2.0</td>\n",
       "    </tr>\n",
       "    <tr>\n",
       "      <th>3</th>\n",
       "      <td>-2</td>\n",
       "      <td>-3.0</td>\n",
       "      <td>-2.0</td>\n",
       "    </tr>\n",
       "    <tr>\n",
       "      <th>4</th>\n",
       "      <td>-1</td>\n",
       "      <td>-4.0</td>\n",
       "      <td>-1.0</td>\n",
       "    </tr>\n",
       "    <tr>\n",
       "      <th>5</th>\n",
       "      <td>0</td>\n",
       "      <td>-4.0</td>\n",
       "      <td>0.0</td>\n",
       "    </tr>\n",
       "    <tr>\n",
       "      <th>6</th>\n",
       "      <td>1</td>\n",
       "      <td>-4.0</td>\n",
       "      <td>0.0</td>\n",
       "    </tr>\n",
       "    <tr>\n",
       "      <th>7</th>\n",
       "      <td>2</td>\n",
       "      <td>-3.0</td>\n",
       "      <td>1.0</td>\n",
       "    </tr>\n",
       "    <tr>\n",
       "      <th>8</th>\n",
       "      <td>3</td>\n",
       "      <td>-1.0</td>\n",
       "      <td>2.0</td>\n",
       "    </tr>\n",
       "    <tr>\n",
       "      <th>9</th>\n",
       "      <td>4</td>\n",
       "      <td>1.0</td>\n",
       "      <td>2.0</td>\n",
       "    </tr>\n",
       "  </tbody>\n",
       "</table>\n",
       "</div>"
      ],
      "text/plain": [
       "   x    y    z\n",
       "0 -5  4.0  NaN\n",
       "1 -4  1.0 -3.0\n",
       "2 -3 -1.0 -2.0\n",
       "3 -2 -3.0 -2.0\n",
       "4 -1 -4.0 -1.0\n",
       "5  0 -4.0  0.0\n",
       "6  1 -4.0  0.0\n",
       "7  2 -3.0  1.0\n",
       "8  3 -1.0  2.0\n",
       "9  4  1.0  2.0"
      ]
     },
     "execution_count": 5,
     "metadata": {},
     "output_type": "execute_result"
    }
   ],
   "source": [
    "\n",
    "df"
   ]
  }
 ],
 "metadata": {
  "kernelspec": {
   "display_name": "Python 3",
   "language": "python",
   "name": "python3"
  },
  "language_info": {
   "codemirror_mode": {
    "name": "ipython",
    "version": 3
   },
   "file_extension": ".py",
   "mimetype": "text/x-python",
   "name": "python",
   "nbconvert_exporter": "python",
   "pygments_lexer": "ipython3",
   "version": "3.6.8"
  }
 },
 "nbformat": 4,
 "nbformat_minor": 2
}
