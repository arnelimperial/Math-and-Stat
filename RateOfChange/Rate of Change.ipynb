{
 "cells": [
  {
   "cell_type": "markdown",
   "metadata": {},
   "source": [
    "# Rate of Change/Slope\n",
    "> Given a function f(x) plotted in the Cartesian plane as y=f(x), the average rate of change (or average rate of change function) of f from x to a is given by [$^1$](http://mathworld.wolfram.com/AverageRateofChange.html)  \n",
    "\n",
    "$$A(x, a) = \\frac{f(x) - f(a)}{x - a} $$\n",
    "\n",
    "> This corresponds the the slope of the secant line connecting the points $(x,f(x))$ and $(a,f(a))$.[$^1$]\n",
    "(http://mathworld.wolfram.com/AverageRateofChange.html) \n",
    "\n",
    "- The rate of change in linear equation does not vary(straight line) while the opposite is true for non-linear.\n",
    "\n",
    "Problem 1: $g(x) = x^3 -9x$\n",
    "\n",
    "\n",
    "--------\n",
    "\n",
    "1. \"Average Rate of Change,\" From Wolfram MathWorld, , accessed April 28, 2019, http://mathworld.wolfram.com/AverageRateofChange.html."
   ]
  },
  {
   "cell_type": "code",
   "execution_count": 88,
   "metadata": {},
   "outputs": [
    {
     "data": {
      "image/png": "[encoded data removed]",
      "text/plain": [
       "<Figure size 432x288 with 1 Axes>"
      ]
     },
     "metadata": {
      "needs_background": "light"
     },
     "output_type": "display_data"
    },
    {
     "name": "stdout",
     "output_type": "stream",
     "text": [
      "    x    y      z\n",
      "0  -5  -80    NaN\n",
      "1  -4  -28   52.0\n",
      "2  -3    0   28.0\n",
      "3  -2   10   10.0\n",
      "4  -1    8   -2.0\n",
      "5   0    0   -8.0\n",
      "6   1   -8   -8.0\n",
      "7   2  -10   -2.0\n",
      "8   3    0   10.0\n",
      "9   4   28   28.0\n",
      "10  5   80   52.0\n",
      "11  6  162   82.0\n",
      "12  7  280  118.0\n"
     ]
    }
   ],
   "source": [
    "import numpy as np\n",
    "from matplotlib import pyplot as plt\n",
    "import pandas as pd\n",
    "import csv\n",
    "\n",
    "#g(x) = x^3 - 9x\n",
    "\n",
    "def g(x):\n",
    "    return x**3 -9*x\n",
    "\n",
    "\n",
    "#Recursive function\n",
    "def factorial(x):\n",
    "    if x == 1:\n",
    "        return 1\n",
    "    else:\n",
    "        return(x * (factorial(x -1)))\n",
    "\n",
    "\n",
    "#file = open('data.csv', mode='w')\n",
    "#writer = csv.writer(file, delimiter=\"|\", quotechar='\"', quoting=csv.QUOTE_MINIMAL)\n",
    "#writer.writerow([' x ', ' factorial(x) '])\n",
    "#for i in range(-5, 5):\n",
    "    #y = g(i)\n",
    "    #writer.writerow([i, y])\n",
    "    \n",
    "#file.close()\n",
    "\n",
    "#df = pd.read_csv('data.csv')\n",
    "#df\n",
    "\n",
    "\n",
    "df = pd.DataFrame({'x': range(-5, 8)})\n",
    "#df['y'] = df['x']**3 -9*df['x']\n",
    "df['y'] = g(df['x'])\n",
    "#Get rate of change with diff()\n",
    "df['z'] = df['y'].diff()\n",
    "#x = np.array(range(-5, 8))\n",
    "\n",
    "# Create an array for the secant line\n",
    "secant = np.array([-5,7])\n",
    "\n",
    "%matplotlib inline\n",
    "#plt.plot(x, y, color='m', marker='o')\n",
    "plt.plot(df.x, df.y, color='m', marker='o')\n",
    "plt.plot(df.x, df.z, color='y', marker='o')\n",
    "plt.plot(secant, g(secant), color='g')\n",
    "plt.xlabel('x')\n",
    "plt.ylabel('y')\n",
    "#Find the slope\n",
    "m, b = np.polyfit(df.x, df.y, 1)\n",
    "#m, b = np.polyfit(x, g(x), 1)\n",
    "plt.xlabel('x')\n",
    "plt.ylabel('y and z')\n",
    "plt.legend(['y', 'z', 'secant'])\n",
    "plt.xticks()\n",
    "plt.yticks()\n",
    "plt.grid()\n",
    "plt.show()\n",
    "print(df)\n",
    "\n",
    "\n",
    "#Changes in rate %\n",
    "g_series = pd.Series(g(x))\n",
    "percent = g_series.pct_change()\n",
    "change = percent * 100\n",
    "#change\n"
   ]
  },
  {
   "cell_type": "code",
   "execution_count": 87,
   "metadata": {},
   "outputs": [
    {
     "data": {
      "text/plain": [
       "19.0"
      ]
     },
     "execution_count": 87,
     "metadata": {},
     "output_type": "execute_result"
    }
   ],
   "source": [
    "m"
   ]
  },
  {
   "cell_type": "code",
   "execution_count": 78,
   "metadata": {},
   "outputs": [
    {
     "data": {
      "text/plain": [
       "15.000000000000004"
      ]
     },
     "execution_count": 78,
     "metadata": {},
     "output_type": "execute_result"
    }
   ],
   "source": [
    "b"
   ]
  },
  {
   "cell_type": "code",
   "execution_count": null,
   "metadata": {},
   "outputs": [],
   "source": []
  }
 ],
 "metadata": {
  "kernelspec": {
   "display_name": "Python 3",
   "language": "python",
   "name": "python3"
  },
  "language_info": {
   "codemirror_mode": {
    "name": "ipython",
    "version": 3
   },
   "file_extension": ".py",
   "mimetype": "text/x-python",
   "name": "python",
   "nbconvert_exporter": "python",
   "pygments_lexer": "ipython3",
   "version": "3.6.8"
  }
 },
 "nbformat": 4,
 "nbformat_minor": 2
}
