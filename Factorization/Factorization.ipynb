{
 "cells": [
  {
   "cell_type": "markdown",
   "metadata": {},
   "source": [
    "# Factorization\n",
    "Factoring polynomial:[$^1$](https://www.youtube.com/watch?v=Sx4NvCMtlj0)\n",
    "$$5x^2-18x+9$$\n",
    "\n",
    "\n",
    "$--------$\n",
    "\n",
    "1. Brian McLogan, \"Factoring Polynomials Using Box Method,\" YouTube, May 31, 2012, , accessed April 20, 2019, https://www.youtube.com/watch?v=Sx4NvCMtlj0.\n"
   ]
  },
  {
   "cell_type": "code",
   "execution_count": 1,
   "metadata": {},
   "outputs": [],
   "source": [
    "#Import libraries\n",
    "from sympy import *\n",
    "#init_printing()\n",
    "#init_printing(use_unicode=False, wrap_line=False)\n",
    "init_printing(use_unicode=True)\n",
    "import numpy as np\n",
    "import math\n",
    "from math import floor, ceil, log, sqrt\n",
    "import pandas as pd\n",
    "from matplotlib import pyplot as plt\n",
    "from matplotlib.pyplot import figure\n",
    "from matplotlib.pyplot import xticks\n",
    "from matplotlib.pyplot import yticks\n",
    "from statistics import mean\n",
    "from random import randint\n"
   ]
  },
  {
   "cell_type": "code",
   "execution_count": 2,
   "metadata": {},
   "outputs": [],
   "source": [
    "x, y = symbols('x y')"
   ]
  },
  {
   "cell_type": "code",
   "execution_count": 3,
   "metadata": {},
   "outputs": [
    {
     "data": {
      "image/png": "[encoded data removed]",
      "text/latex": [
       "$$5 x^{2} - 18 x + 9$$"
      ],
      "text/plain": [
       "   2           \n",
       "5⋅x  - 18⋅x + 9"
      ]
     },
     "execution_count": 3,
     "metadata": {},
     "output_type": "execute_result"
    }
   ],
   "source": [
    "y = 5*x**2 - 18*x + 9\n",
    "y\n"
   ]
  },
  {
   "cell_type": "code",
   "execution_count": 4,
   "metadata": {},
   "outputs": [
    {
     "name": "stdout",
     "output_type": "stream",
     "text": [
      "The factor of 5*x**2 - 18*x + 9: (x - 3)*(5*x - 3)\n"
     ]
    }
   ],
   "source": [
    "factorization = factor(y)\n",
    "print('The factor of {}: {}'.format(y, factorization))"
   ]
  },
  {
   "cell_type": "code",
   "execution_count": 5,
   "metadata": {},
   "outputs": [
    {
     "name": "stdout",
     "output_type": "stream",
     "text": [
      "Coefficient of 5*x**2 - 18*x + 9: [5, -18, 9]\n"
     ]
    }
   ],
   "source": [
    "#Extract coefficient\n",
    "extract_coeff = Poly(y, x)\n",
    "#extract_coeff.all_coeffs() #all_coeffs() including 0 while coeffs() disregard 0\n",
    "print('Coefficient of {}: {}'.format(y, extract_coeff.all_coeffs()))"
   ]
  },
  {
   "cell_type": "code",
   "execution_count": 6,
   "metadata": {},
   "outputs": [
    {
     "data": {
      "text/plain": [
       "array([3. , 0.6])"
      ]
     },
     "execution_count": 6,
     "metadata": {},
     "output_type": "execute_result"
    }
   ],
   "source": [
    "#Find the roots\n",
    "r = extract_coeff.coeffs()\n",
    "root = np.roots(r)\n",
    "root\n"
   ]
  },
  {
   "cell_type": "code",
   "execution_count": 7,
   "metadata": {},
   "outputs": [],
   "source": [
    "#Plug root values from factorization eq. through subs to check if zeroes can be found\n",
    "newy1 = factorization.subs(x, root[0])\n",
    "newy2 = factorization.subs(x, root[1])\n"
   ]
  },
  {
   "cell_type": "code",
   "execution_count": 8,
   "metadata": {},
   "outputs": [
    {
     "data": {
      "image/png": "[encoded data removed]",
      "text/latex": [
       "$$0$$"
      ],
      "text/plain": [
       "0"
      ]
     },
     "execution_count": 8,
     "metadata": {},
     "output_type": "execute_result"
    }
   ],
   "source": [
    "newy1"
   ]
  },
  {
   "cell_type": "code",
   "execution_count": 9,
   "metadata": {},
   "outputs": [
    {
     "data": {
      "image/png": "[encoded data removed]",
      "text/latex": [
       "$$0$$"
      ],
      "text/plain": [
       "0"
      ]
     },
     "execution_count": 9,
     "metadata": {},
     "output_type": "execute_result"
    }
   ],
   "source": [
    "newy2"
   ]
  },
  {
   "cell_type": "code",
   "execution_count": 10,
   "metadata": {},
   "outputs": [
    {
     "data": {
      "text/plain": [
       "True"
      ]
     },
     "execution_count": 10,
     "metadata": {},
     "output_type": "execute_result"
    }
   ],
   "source": [
    "#checking original and factorization equation if its equal\n",
    "x1 = randint(3,100)\n",
    "original = y.subs(x, x1)\n",
    "factor_eq = factorization.subs(x, x1)\n",
    "original == factor_eq"
   ]
  },
  {
   "cell_type": "code",
   "execution_count": 11,
   "metadata": {},
   "outputs": [
    {
     "data": {
      "text/html": [
       "<div>\n",
       "<style scoped>\n",
       "    .dataframe tbody tr th:only-of-type {\n",
       "        vertical-align: middle;\n",
       "    }\n",
       "\n",
       "    .dataframe tbody tr th {\n",
       "        vertical-align: top;\n",
       "    }\n",
       "\n",
       "    .dataframe thead th {\n",
       "        text-align: right;\n",
       "    }\n",
       "</style>\n",
       "<table border=\"1\" class=\"dataframe\">\n",
       "  <thead>\n",
       "    <tr style=\"text-align: right;\">\n",
       "      <th></th>\n",
       "      <th>x</th>\n",
       "      <th>y</th>\n",
       "    </tr>\n",
       "  </thead>\n",
       "  <tbody>\n",
       "    <tr>\n",
       "      <th>0</th>\n",
       "      <td>-10</td>\n",
       "      <td>689</td>\n",
       "    </tr>\n",
       "    <tr>\n",
       "      <th>1</th>\n",
       "      <td>-9</td>\n",
       "      <td>576</td>\n",
       "    </tr>\n",
       "    <tr>\n",
       "      <th>2</th>\n",
       "      <td>-8</td>\n",
       "      <td>473</td>\n",
       "    </tr>\n",
       "    <tr>\n",
       "      <th>3</th>\n",
       "      <td>-7</td>\n",
       "      <td>380</td>\n",
       "    </tr>\n",
       "    <tr>\n",
       "      <th>4</th>\n",
       "      <td>-6</td>\n",
       "      <td>297</td>\n",
       "    </tr>\n",
       "    <tr>\n",
       "      <th>5</th>\n",
       "      <td>-5</td>\n",
       "      <td>224</td>\n",
       "    </tr>\n",
       "    <tr>\n",
       "      <th>6</th>\n",
       "      <td>-4</td>\n",
       "      <td>161</td>\n",
       "    </tr>\n",
       "    <tr>\n",
       "      <th>7</th>\n",
       "      <td>-3</td>\n",
       "      <td>108</td>\n",
       "    </tr>\n",
       "    <tr>\n",
       "      <th>8</th>\n",
       "      <td>-2</td>\n",
       "      <td>65</td>\n",
       "    </tr>\n",
       "    <tr>\n",
       "      <th>9</th>\n",
       "      <td>-1</td>\n",
       "      <td>32</td>\n",
       "    </tr>\n",
       "    <tr>\n",
       "      <th>10</th>\n",
       "      <td>0</td>\n",
       "      <td>9</td>\n",
       "    </tr>\n",
       "    <tr>\n",
       "      <th>11</th>\n",
       "      <td>1</td>\n",
       "      <td>-4</td>\n",
       "    </tr>\n",
       "    <tr>\n",
       "      <th>12</th>\n",
       "      <td>2</td>\n",
       "      <td>-7</td>\n",
       "    </tr>\n",
       "    <tr>\n",
       "      <th>13</th>\n",
       "      <td>3</td>\n",
       "      <td>0</td>\n",
       "    </tr>\n",
       "    <tr>\n",
       "      <th>14</th>\n",
       "      <td>4</td>\n",
       "      <td>17</td>\n",
       "    </tr>\n",
       "    <tr>\n",
       "      <th>15</th>\n",
       "      <td>5</td>\n",
       "      <td>44</td>\n",
       "    </tr>\n",
       "    <tr>\n",
       "      <th>16</th>\n",
       "      <td>6</td>\n",
       "      <td>81</td>\n",
       "    </tr>\n",
       "    <tr>\n",
       "      <th>17</th>\n",
       "      <td>7</td>\n",
       "      <td>128</td>\n",
       "    </tr>\n",
       "    <tr>\n",
       "      <th>18</th>\n",
       "      <td>8</td>\n",
       "      <td>185</td>\n",
       "    </tr>\n",
       "    <tr>\n",
       "      <th>19</th>\n",
       "      <td>9</td>\n",
       "      <td>252</td>\n",
       "    </tr>\n",
       "    <tr>\n",
       "      <th>20</th>\n",
       "      <td>10</td>\n",
       "      <td>329</td>\n",
       "    </tr>\n",
       "  </tbody>\n",
       "</table>\n",
       "</div>"
      ],
      "text/plain": [
       "     x    y\n",
       "0  -10  689\n",
       "1   -9  576\n",
       "2   -8  473\n",
       "3   -7  380\n",
       "4   -6  297\n",
       "5   -5  224\n",
       "6   -4  161\n",
       "7   -3  108\n",
       "8   -2   65\n",
       "9   -1   32\n",
       "10   0    9\n",
       "11   1   -4\n",
       "12   2   -7\n",
       "13   3    0\n",
       "14   4   17\n",
       "15   5   44\n",
       "16   6   81\n",
       "17   7  128\n",
       "18   8  185\n",
       "19   9  252\n",
       "20  10  329"
      ]
     },
     "execution_count": 11,
     "metadata": {},
     "output_type": "execute_result"
    }
   ],
   "source": [
    "#Graph the factorization eq.\n",
    "df = pd.DataFrame({'x': range(-10, 11)})\n",
    "df['y'] = (df['x'] - 3)*(5*df['x'] - 3)\n",
    "#Find the slope and y-intercept\n",
    "m, b = np.polyfit(df.x, df.y, 1)\n",
    "df"
   ]
  },
  {
   "cell_type": "code",
   "execution_count": 12,
   "metadata": {},
   "outputs": [
    {
     "name": "stdout",
     "output_type": "stream",
     "text": [
      "y = (x - 3)*(5*x - 3) has slope of -18.000000000000004 and y-intercept 192.3333333333334\n"
     ]
    }
   ],
   "source": [
    "#slope and y-intercept\n",
    "print('y = {} has slope of {} and y-intercept {}'.format(factorization, m, b))"
   ]
  },
  {
   "cell_type": "code",
   "execution_count": 13,
   "metadata": {},
   "outputs": [
    {
     "data": {
      "image/png": "[encoded data removed]",
      "text/plain": [
       "<Figure size 640x480 with 1 Axes>"
      ]
     },
     "metadata": {},
     "output_type": "display_data"
    }
   ],
   "source": [
    "%matplotlib inline\n",
    "figure(num=None, figsize=(8, 6), dpi=80, facecolor='w', edgecolor='k')\n",
    "plt.plot(df.x, df.y, linestyle='None', marker='o', label='{}'.format(factorization))\n",
    "plt.legend(loc='upper right')\n",
    "plt.xlabel('X')\n",
    "plt.ylabel('Y')\n",
    "plt.title('Graph of {}'.format(factorization))\n",
    "xticks(df.x)\n",
    "#yticks(df.y)\n",
    "plt.axhline()\n",
    "plt.axvline()\n",
    "plt.show()"
   ]
  },
  {
   "cell_type": "code",
   "execution_count": 14,
   "metadata": {},
   "outputs": [
    {
     "data": {
      "image/png": "[encoded data removed]",
      "text/latex": [
       "$$8$$"
      ],
      "text/plain": [
       "8"
      ]
     },
     "execution_count": 14,
     "metadata": {},
     "output_type": "execute_result"
    }
   ],
   "source": [
    "#Example of solving the GCF of 2 integers 16 and 24\n",
    "gcd(16, 24)"
   ]
  },
  {
   "cell_type": "markdown",
   "metadata": {},
   "source": [
    "### GCF of 3 polynomials\n",
    "#### Example [$^2$](https://www.mathplanet.com/education/algebra-2/polynomials-and-radical-expressions/factoring-polynomials.)\n",
    "$$2c^2-4cd+2d^2=2(c^2-2cd+d^2)=2(c-d)^2$$\n",
    "\n",
    "$--------$\n",
    "2. \"Factoring Polynomials (Algebra 2, Polynomials and Radical Expressions) – Mathplanet,\" Mathplanet, , accessed April 20, 2019, https://www.mathplanet.com/education/algebra-2/polynomials-and-radical-expressions/factoring-polynomials."
   ]
  },
  {
   "cell_type": "code",
   "execution_count": 15,
   "metadata": {},
   "outputs": [],
   "source": [
    "c, d = symbols('c d')\n",
    "eq1 = 2*c**2 - 4*c*d + 2*d**2\n",
    "eq2 = 2*(c**2 -2*c*d + d**2)\n",
    "eq3 = 2*(c - d)**2"
   ]
  },
  {
   "cell_type": "code",
   "execution_count": 16,
   "metadata": {},
   "outputs": [
    {
     "data": {
      "image/png": "[encoded data removed]",
      "text/latex": [
       "$$2 c^{2} - 4 c d + 2 d^{2}$$"
      ],
      "text/plain": [
       "   2              2\n",
       "2⋅c  - 4⋅c⋅d + 2⋅d "
      ]
     },
     "execution_count": 16,
     "metadata": {},
     "output_type": "execute_result"
    }
   ],
   "source": [
    "gcf1 = gcd(eq1, eq2)\n",
    "gcf1"
   ]
  },
  {
   "cell_type": "code",
   "execution_count": 17,
   "metadata": {},
   "outputs": [
    {
     "data": {
      "text/plain": [
       "True"
      ]
     },
     "execution_count": 17,
     "metadata": {},
     "output_type": "execute_result"
    }
   ],
   "source": [
    "# Check if all are equal \n",
    "c1 = randint(1,100)\n",
    "d1 = randint(1,100)\n",
    "\n",
    "eq11 = eq1.subs({c: d1, d: d1})\n",
    "eq22 = eq2.subs({c: d1, d: d1})\n",
    "eq33 = eq3.subs({c: d1, d: d1})\n",
    "compare1 = gcf1.subs({c: d1, d: d1})\n",
    "#Compare all\n",
    "#eq11 == compare\n",
    "#eq22 == compare\n",
    "#eq33 == compare \n",
    "#Compare all to the GCF\n",
    "eq11 == eq22 == eq33 == compare1"
   ]
  },
  {
   "cell_type": "markdown",
   "metadata": {},
   "source": [
    "### Perfect square trinomial\n",
    "\n",
    "#### Example [$^3$](https://www.basic-mathematics.com/factoring-perfect-square-trinomials.html.)\n",
    "\n",
    "$$p^2 + (-18p) + 81$$\n",
    "\n",
    "$--------$\n",
    "3. \"Factoring Perfect Square Trinomials,\" Basic, , accessed April 20, 2019, https://www.basic-mathematics.com/factoring-perfect-square-trinomials.html."
   ]
  },
  {
   "cell_type": "code",
   "execution_count": 18,
   "metadata": {},
   "outputs": [
    {
     "data": {
      "image/png": "[encoded data removed]",
      "text/latex": [
       "$$p^{2} - 18 p + 81$$"
      ],
      "text/plain": [
       " 2            \n",
       "p  - 18⋅p + 81"
      ]
     },
     "execution_count": 18,
     "metadata": {},
     "output_type": "execute_result"
    }
   ],
   "source": [
    "p = symbols('p')\n",
    "pEq = p**2 + (-18*p) + 81\n",
    "pEq"
   ]
  },
  {
   "cell_type": "code",
   "execution_count": 19,
   "metadata": {},
   "outputs": [
    {
     "data": {
      "image/png": "[encoded data removed]",
      "text/latex": [
       "$$\\left(p - 9\\right)^{2}$$"
      ],
      "text/plain": [
       "       2\n",
       "(p - 9) "
      ]
     },
     "execution_count": 19,
     "metadata": {},
     "output_type": "execute_result"
    }
   ],
   "source": [
    "# Get the factor -----> one factor are always perfect square\n",
    "f = factor(pEq)\n",
    "f"
   ]
  },
  {
   "cell_type": "code",
   "execution_count": 20,
   "metadata": {},
   "outputs": [
    {
     "data": {
      "text/plain": [
       "True"
      ]
     },
     "execution_count": 20,
     "metadata": {},
     "output_type": "execute_result"
    }
   ],
   "source": [
    "#Check if equal\n",
    "p1 = randint(1,100)\n",
    "pEq.subs(p, p1) == f.subs(p, p1)"
   ]
  },
  {
   "cell_type": "code",
   "execution_count": null,
   "metadata": {},
   "outputs": [],
   "source": []
  }
 ],
 "metadata": {
  "kernelspec": {
   "display_name": "Python 3",
   "language": "python",
   "name": "python3"
  },
  "language_info": {
   "codemirror_mode": {
    "name": "ipython",
    "version": 3
   },
   "file_extension": ".py",
   "mimetype": "text/x-python",
   "name": "python",
   "nbconvert_exporter": "python",
   "pygments_lexer": "ipython3",
   "version": "3.6.8"
  }
 },
 "nbformat": 4,
 "nbformat_minor": 2
}
