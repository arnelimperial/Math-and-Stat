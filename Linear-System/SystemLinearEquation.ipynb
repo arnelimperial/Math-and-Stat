{
 "cells": [
  {
   "cell_type": "markdown",
   "metadata": {},
   "source": [
    "# Linear System\n",
    "\n",
    "***\n",
    "\n",
    "## [Linear Equation](https://www.encyclopediaofmath.org/index.php/Linear_equation)\n",
    "> A first-order equation comprising of two variables: its graph is a straight line in the Cartesian coordinate system.\n",
    "\n",
    "\n",
    "$$Ax = b$$\n",
    "\n",
    "> where ___A___ is a linear operator, ___x___ is an unknown element and ___b___ is a given element.\n",
    "\n",
    "## System of Linear Equation\n",
    "> Group of two or more linear equations involving the same set of variables. To isolate and solve for ___x___, get the inverse of ___A___ and multiply that with ___b___.\n",
    "\n",
    "#### _Sample Problem 1: Two simple linear equation with 2 sets variables s and t collectively as x._<br><br>\n",
    "$$3s + t = 20$$<br>\n",
    "$$4s - t = 8$$<br><br>\n",
    "$$A = \\begin{bmatrix} 3 & 1 \\\\ 4 & -1 \\\\\\end{bmatrix}$$<br><br>\n",
    "$$x = \\begin{bmatrix} s \\\\ t \\\\\\end{bmatrix}$$<br><br>\n",
    "$$b = \\begin{bmatrix} 20 \\\\ 8 \\\\\\end{bmatrix}$$<br><br>\n",
    "$$\\begin{bmatrix} 3 & 1 \\\\ 4 & -1 \\\\\\end{bmatrix} \\begin{bmatrix} s \\\\ t \\\\\\end{bmatrix} = \\begin{bmatrix} 20 \\\\ 8 \\\\\\end{bmatrix}$$<br><br>\n",
    "\n",
    "> Output from [numpy](http://www.u.arizona.edu/~erdmann/mse350/topics/basic_linear_algebra.html):<br>\n",
    "- s == 4 \n",
    "- t == 8\n",
    "    "
   ]
  },
  {
   "cell_type": "code",
   "execution_count": 1,
   "metadata": {},
   "outputs": [
    {
     "name": "stdout",
     "output_type": "stream",
     "text": [
      "[4. 8.]\n"
     ]
    }
   ],
   "source": [
    "import numpy as NP\n",
    "\n",
    "#A = np.matrix([[3, 1], [4, -1]])\n",
    "#b = np.matrix([[20], [8]])\n",
    "\n",
    "#print(A)\n",
    "#print (b)\n",
    "\n",
    "#print(np.linalg.solve(s,t))\n",
    "\n",
    "#Using inverse\n",
    "##inverseA = np.linalg.inv(A)\n",
    "#print(inverseA)\n",
    "\n",
    "#x = inverseA * b\n",
    "#print(x)\n",
    "\n",
    "###################\n",
    "\n",
    "A = NP.array([[3,1], [4,-1]])\n",
    "b = NP.array([20, 8])\n",
    "\n",
    "#print(b)\n",
    "\n",
    "x = NP.linalg.solve(A,b)\n",
    "print(x)\n"
   ]
  },
  {
   "cell_type": "code",
   "execution_count": 2,
   "metadata": {},
   "outputs": [
    {
     "data": {
      "image/jpeg": "[encoded data removed]",
      "text/html": [
       "\n",
       "        <iframe\n",
       "            width=\"400\"\n",
       "            height=\"300\"\n",
       "            src=\"https://www.youtube.com/embed/RYP9Bg-03Gg\"\n",
       "            frameborder=\"0\"\n",
       "            allowfullscreen\n",
       "        ></iframe>\n",
       "        "
      ],
      "text/plain": [
       "<IPython.lib.display.YouTubeVideo at 0x7f158c3edc18>"
      ]
     },
     "execution_count": 2,
     "metadata": {},
     "output_type": "execute_result"
    }
   ],
   "source": [
    "from IPython.display import YouTubeVideo\n",
    "#Related video for this exercise.\n",
    "YouTubeVideo('RYP9Bg-03Gg')"
   ]
  }
 ],
 "metadata": {
  "kernelspec": {
   "display_name": "Python 3",
   "language": "python",
   "name": "python3"
  },
  "language_info": {
   "codemirror_mode": {
    "name": "ipython",
    "version": 3
   },
   "file_extension": ".py",
   "mimetype": "text/x-python",
   "name": "python",
   "nbconvert_exporter": "python",
   "pygments_lexer": "ipython3",
   "version": "3.6.8"
  }
 },
 "nbformat": 4,
 "nbformat_minor": 2
}
