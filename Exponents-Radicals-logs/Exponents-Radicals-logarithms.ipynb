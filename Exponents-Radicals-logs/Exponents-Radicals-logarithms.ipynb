{
 "cells": [
  {
   "cell_type": "markdown",
   "metadata": {},
   "source": [
    "# Exponents, Radicals & Logarithms"
   ]
  },
  {
   "cell_type": "code",
   "execution_count": 1,
   "metadata": {},
   "outputs": [],
   "source": [
    "import math\n",
    "from math import floor, ceil, log\n",
    "import numpy as np"
   ]
  },
  {
   "cell_type": "markdown",
   "metadata": {},
   "source": [
    "### Solving exponential equation\n",
    "> Example:<br>\n",
    "[$$1111 = 5.2^x$$](https://www.youtube.com/watch?v=7Ig6kVZaWoU)\n",
    "\n"
   ]
  },
  {
   "cell_type": "code",
   "execution_count": 2,
   "metadata": {},
   "outputs": [
    {
     "name": "stdout",
     "output_type": "stream",
     "text": [
      "x == 4.254 from the example problem.\n",
      "5.2^x is 1111.\n",
      "True\n"
     ]
    }
   ],
   "source": [
    "# Using math.log\n",
    "a = 1111\n",
    "b = 5.20\n",
    "\n",
    "# Find the x from above equation\n",
    "x = log(1111, 5.2)\n",
    "\n",
    "# using truncate() \n",
    "def truncate(n, digit=0):\n",
    "    multiplier = 10**digit\n",
    "    res = math.ceil(n * multiplier)/ multiplier\n",
    "    return res\n",
    "\n",
    "# Round of up to thousandths\n",
    "result = truncate(x, 3)\n",
    "print('x == {} from the example problem.'.format(result))\n",
    "\n",
    "#checking use floor to round down to whole number\n",
    "check = floor(b** result)\n",
    "print('5.2^x is {}.'.format(check))\n",
    "print(a == check)"
   ]
  },
  {
   "cell_type": "markdown",
   "metadata": {},
   "source": [
    "> if : $y = 5.2^x$ solve for y"
   ]
  },
  {
   "cell_type": "code",
   "execution_count": 3,
   "metadata": {},
   "outputs": [
    {
     "name": "stdout",
     "output_type": "stream",
     "text": [
      "     x          y\n",
      "0  -10        0.0\n",
      "1   -9        0.0\n",
      "2   -8        0.0\n",
      "3   -7        0.0\n",
      "4   -6        0.0\n",
      "5   -5        0.0\n",
      "6   -4        0.0\n",
      "7   -3        0.0\n",
      "8   -2        0.0\n",
      "9   -1        0.2\n",
      "10   0        1.0\n",
      "11   1        5.2\n",
      "12   2       27.0\n",
      "13   3      140.6\n",
      "14   4      731.2\n",
      "15   5     3802.0\n",
      "16   6    19770.6\n",
      "17   7   102807.2\n",
      "18   8   534597.3\n",
      "19   9  2779905.9\n",
      "20  10 14455510.6\n"
     ]
    }
   ],
   "source": [
    "import pandas as pd\n",
    "\n",
    "# Create a dataframe with an x column containing values from -10 to 10\n",
    "df = pd.DataFrame ({'x': range(-10, 11)})\n",
    "pd.set_option('display.float_format', '{:.1f}'.format)\n",
    "# Add a y column by applying the slope-intercept equation to x\n",
    "df['y'] = b**df['x']\n",
    "\n",
    "#Display the dataframe\n",
    "print(df)\n"
   ]
  },
  {
   "cell_type": "code",
   "execution_count": 4,
   "metadata": {},
   "outputs": [
    {
     "data": {
      "text/plain": [
       "pandas.core.frame.DataFrame"
      ]
     },
     "execution_count": 4,
     "metadata": {},
     "output_type": "execute_result"
    }
   ],
   "source": [
    "type(df)"
   ]
  },
  {
   "cell_type": "code",
   "execution_count": 5,
   "metadata": {},
   "outputs": [
    {
     "data": {
      "text/plain": [
       "0    -10\n",
       "1     -9\n",
       "2     -8\n",
       "3     -7\n",
       "4     -6\n",
       "5     -5\n",
       "6     -4\n",
       "7     -3\n",
       "8     -2\n",
       "9     -1\n",
       "10     0\n",
       "11     1\n",
       "12     2\n",
       "13     3\n",
       "14     4\n",
       "15     5\n",
       "16     6\n",
       "17     7\n",
       "18     8\n",
       "19     9\n",
       "20    10\n",
       "Name: x, dtype: int64"
      ]
     },
     "execution_count": 5,
     "metadata": {},
     "output_type": "execute_result"
    }
   ],
   "source": [
    "df.x"
   ]
  },
  {
   "cell_type": "code",
   "execution_count": 6,
   "metadata": {},
   "outputs": [
    {
     "data": {
      "text/plain": [
       "0           0.0\n",
       "1           0.0\n",
       "2           0.0\n",
       "3           0.0\n",
       "4           0.0\n",
       "5           0.0\n",
       "6           0.0\n",
       "7           0.0\n",
       "8           0.0\n",
       "9           0.2\n",
       "10          1.0\n",
       "11          5.2\n",
       "12         27.0\n",
       "13        140.6\n",
       "14        731.2\n",
       "15       3802.0\n",
       "16      19770.6\n",
       "17     102807.2\n",
       "18     534597.3\n",
       "19    2779905.9\n",
       "20   14455510.6\n",
       "Name: y, dtype: float64"
      ]
     },
     "execution_count": 6,
     "metadata": {},
     "output_type": "execute_result"
    }
   ],
   "source": [
    "df.y"
   ]
  },
  {
   "cell_type": "code",
   "execution_count": 7,
   "metadata": {},
   "outputs": [
    {
     "data": {
      "text/plain": [
       "(Empty DataFrame\n",
       " Columns: [x, y]\n",
       " Index: [], 0    -10\n",
       " 1     -9\n",
       " 2     -8\n",
       " 3     -7\n",
       " 4     -6\n",
       " 5     -5\n",
       " 6     -4\n",
       " 7     -3\n",
       " 8     -2\n",
       " 9     -1\n",
       " 10     0\n",
       " 11     1\n",
       " 12     2\n",
       " 13     3\n",
       " 14     4\n",
       " 15     5\n",
       " 16     6\n",
       " 17     7\n",
       " 18     8\n",
       " 19     9\n",
       " 20    10\n",
       " Name: x, dtype: int64)"
      ]
     },
     "execution_count": 7,
     "metadata": {},
     "output_type": "execute_result"
    }
   ],
   "source": [
    "df.loc[df['y'] == 0], df['x']\n"
   ]
  },
  {
   "cell_type": "code",
   "execution_count": 8,
   "metadata": {},
   "outputs": [],
   "source": [
    "#slope and y-intercept\n",
    "slope, intercept = np.polyfit(df.x, df.y, 1)\n"
   ]
  },
  {
   "cell_type": "code",
   "execution_count": 9,
   "metadata": {},
   "outputs": [
    {
     "data": {
      "text/plain": [
       "226898.3463522912"
      ]
     },
     "execution_count": 9,
     "metadata": {},
     "output_type": "execute_result"
    }
   ],
   "source": [
    "slope"
   ]
  },
  {
   "cell_type": "code",
   "execution_count": null,
   "metadata": {},
   "outputs": [],
   "source": []
  },
  {
   "cell_type": "code",
   "execution_count": null,
   "metadata": {},
   "outputs": [],
   "source": []
  },
  {
   "cell_type": "code",
   "execution_count": 10,
   "metadata": {},
   "outputs": [
    {
     "name": "stdout",
     "output_type": "stream",
     "text": [
      "0 1.0\n"
     ]
    }
   ],
   "source": [
    "# x and y intercept \n",
    "# x == 0 and y == 1 or (0, 1) for y-intercept\n",
    "for x, y in zip(df['x'], df['y']):\n",
    "    if y == 0 or x == 0:\n",
    "        print(x,y)\n",
    "        "
   ]
  },
  {
   "cell_type": "code",
   "execution_count": 11,
   "metadata": {},
   "outputs": [
    {
     "data": {
      "text/plain": [
       "10   1.0\n",
       "Name: y, dtype: float64"
      ]
     },
     "execution_count": 11,
     "metadata": {},
     "output_type": "execute_result"
    }
   ],
   "source": [
    "#Compute y-intercept \n",
    "#@ index 10, x == 0; y == 1\n",
    "df.loc[df['x'] == 0, 'y']"
   ]
  },
  {
   "cell_type": "code",
   "execution_count": 12,
   "metadata": {},
   "outputs": [
    {
     "data": {
      "text/plain": [
       "(Empty DataFrame\n",
       " Columns: [x, y]\n",
       " Index: [], 0    -10\n",
       " 1     -9\n",
       " 2     -8\n",
       " 3     -7\n",
       " 4     -6\n",
       " 5     -5\n",
       " 6     -4\n",
       " 7     -3\n",
       " 8     -2\n",
       " 9     -1\n",
       " 10     0\n",
       " 11     1\n",
       " 12     2\n",
       " 13     3\n",
       " 14     4\n",
       " 15     5\n",
       " 16     6\n",
       " 17     7\n",
       " 18     8\n",
       " 19     9\n",
       " 20    10\n",
       " Name: x, dtype: int64)"
      ]
     },
     "execution_count": 12,
     "metadata": {},
     "output_type": "execute_result"
    }
   ],
   "source": [
    "#Compute x-intercept \n",
    "# @ (-2, 0) but many zero values in y with this problem\n",
    "#@ index 10, x == 0; y == 1\n",
    "df.loc[df['y'] == 0], df['x']"
   ]
  },
  {
   "cell_type": "code",
   "execution_count": 13,
   "metadata": {},
   "outputs": [],
   "source": [
    "xs = np.array(df.x, dtype= np.float64)\n",
    "ys = np.array(df.y, dtype=np.float64)"
   ]
  },
  {
   "cell_type": "code",
   "execution_count": 14,
   "metadata": {},
   "outputs": [
    {
     "data": {
      "text/plain": [
       "array([-10.,  -9.,  -8.,  -7.,  -6.,  -5.,  -4.,  -3.,  -2.,  -1.,   0.,\n",
       "         1.,   2.,   3.,   4.,   5.,   6.,   7.,   8.,   9.,  10.])"
      ]
     },
     "execution_count": 14,
     "metadata": {},
     "output_type": "execute_result"
    }
   ],
   "source": [
    "xs"
   ]
  },
  {
   "cell_type": "code",
   "execution_count": 15,
   "metadata": {},
   "outputs": [
    {
     "data": {
      "text/plain": [
       "array([6.91777709e-08, 3.59724409e-07, 1.87056692e-06, 9.72694801e-06,\n",
       "       5.05801296e-05, 2.63016674e-04, 1.36768671e-03, 7.11197087e-03,\n",
       "       3.69822485e-02, 1.92307692e-01, 1.00000000e+00, 5.20000000e+00,\n",
       "       2.70400000e+01, 1.40608000e+02, 7.31161600e+02, 3.80204032e+03,\n",
       "       1.97706097e+04, 1.02807170e+05, 5.34597285e+05, 2.77990588e+06,\n",
       "       1.44555106e+07])"
      ]
     },
     "execution_count": 15,
     "metadata": {},
     "output_type": "execute_result"
    }
   ],
   "source": [
    "ys"
   ]
  },
  {
   "cell_type": "code",
   "execution_count": 16,
   "metadata": {},
   "outputs": [],
   "source": [
    "slope, intercept = np.polyfit(xs, ys, 1)"
   ]
  },
  {
   "cell_type": "code",
   "execution_count": 17,
   "metadata": {},
   "outputs": [
    {
     "data": {
      "text/plain": [
       "226898.3463522912"
      ]
     },
     "execution_count": 17,
     "metadata": {},
     "output_type": "execute_result"
    }
   ],
   "source": [
    "slope"
   ]
  },
  {
   "cell_type": "markdown",
   "metadata": {},
   "source": [
    "> Best-fit of slope <br>\n",
    "\n",
    "[\\begin{equation*}\n",
    "m = \\frac{\\overline{x} * \\overline{y} - \\overline{xy}}{\\overline{(x)}^2 - \\overline{x^2} }\n",
    "\\end{equation*}](https://pythonprogramming.net/how-to-program-best-fit-line-slope-machine-learning-tutorial/)\n",
    "\n"
   ]
  },
  {
   "cell_type": "code",
   "execution_count": 18,
   "metadata": {},
   "outputs": [
    {
     "data": {
      "text/plain": [
       "852252.3253232383"
      ]
     },
     "execution_count": 18,
     "metadata": {},
     "output_type": "execute_result"
    }
   ],
   "source": [
    "intercept"
   ]
  },
  {
   "cell_type": "code",
   "execution_count": 19,
   "metadata": {},
   "outputs": [],
   "source": [
    "from statistics import mean"
   ]
  },
  {
   "cell_type": "code",
   "execution_count": 20,
   "metadata": {},
   "outputs": [
    {
     "name": "stdout",
     "output_type": "stream",
     "text": [
      "The slope is 226898.34635229118.\n"
     ]
    }
   ],
   "source": [
    "# The slope computation using np and user defined best fit slope have same result.\n",
    "def best_fit_slope(xs,ys):\n",
    "    m = (((mean(xs)*mean(ys)) - mean(xs*ys)) /\n",
    "         ((mean(xs)**2) - mean(xs*xs)))\n",
    "    return m\n",
    "\n",
    "m = best_fit_slope(xs,ys)\n",
    "print ('The slope is {}.'.format(m))"
   ]
  },
  {
   "cell_type": "code",
   "execution_count": 21,
   "metadata": {},
   "outputs": [],
   "source": [
    "from scipy import stats\n"
   ]
  },
  {
   "cell_type": "code",
   "execution_count": 22,
   "metadata": {},
   "outputs": [],
   "source": [
    "slop1, intercept1, r_value, p_value, std_err = stats.linregress(xs, ys)"
   ]
  },
  {
   "cell_type": "code",
   "execution_count": 23,
   "metadata": {},
   "outputs": [
    {
     "data": {
      "text/plain": [
       "226898.34635229112"
      ]
     },
     "execution_count": 23,
     "metadata": {},
     "output_type": "execute_result"
    }
   ],
   "source": [
    "slop1"
   ]
  },
  {
   "cell_type": "code",
   "execution_count": 24,
   "metadata": {},
   "outputs": [
    {
     "data": {
      "text/plain": [
       "852252.3253232383"
      ]
     },
     "execution_count": 24,
     "metadata": {},
     "output_type": "execute_result"
    }
   ],
   "source": [
    "intercept1"
   ]
  },
  {
   "cell_type": "code",
   "execution_count": 25,
   "metadata": {},
   "outputs": [
    {
     "data": {
      "text/plain": [
       "0.044145300975017135"
      ]
     },
     "execution_count": 25,
     "metadata": {},
     "output_type": "execute_result"
    }
   ],
   "source": [
    "p_value"
   ]
  },
  {
   "cell_type": "markdown",
   "metadata": {},
   "source": [
    "\n",
    "\n",
    "### P-value\n",
    "\n",
    "- A small p-value (typically ≤ 0.05) indicates strong evidence against the null hypothesis, so you reject the null hypothesis.\n",
    "\n",
    "- A large p-value (> 0.05) indicates weak evidence against the null hypothesis, so you fail to reject the null hypothesis.\n",
    "\n",
    "- p-values very close to the cutoff (0.05) are considered to be marginal (could go either way). Always report the p-value so your readers can draw their own conclusions.\n",
    "\n",
    "\n",
    "| Truth        |          Accept Ho                    |           Reject Ho                  |\n",
    "|:------------:|:-------------------------------------:|:------------------------------------:|\n",
    "| Ho is true   | Correct Decision P: 1-alpha           | Type 1 error P(false positive): alpha|\n",
    "| Ho is false  | Type 2 error P (false negative): beta | Correct Decision P: 1-beta           |"
   ]
  },
  {
   "cell_type": "code",
   "execution_count": 26,
   "metadata": {},
   "outputs": [
    {
     "data": {
      "text/plain": [
       "105258.72700985038"
      ]
     },
     "execution_count": 26,
     "metadata": {},
     "output_type": "execute_result"
    }
   ],
   "source": [
    "std_err"
   ]
  },
  {
   "cell_type": "code",
   "execution_count": 27,
   "metadata": {},
   "outputs": [
    {
     "name": "stdout",
     "output_type": "stream",
     "text": [
      "r-squared:  0.196505875077304\n"
     ]
    }
   ],
   "source": [
    "print('r-squared: ', r_value**2)"
   ]
  },
  {
   "cell_type": "code",
   "execution_count": 28,
   "metadata": {},
   "outputs": [
    {
     "data": {
      "image/png": "[encoded data removed]",
      "text/plain": [
       "<Figure size 432x288 with 1 Axes>"
      ]
     },
     "metadata": {
      "needs_background": "light"
     },
     "output_type": "display_data"
    }
   ],
   "source": [
    "from matplotlib import pyplot as plt\n",
    "%matplotlib inline\n",
    "plt.plot(xs, ys, '--m', marker=\"o\", label='y = 5.2^x')\n",
    "plt.xlabel('X')\n",
    "plt.ylabel('Y')\n",
    "plt.title('y = 5.2^x')\n",
    "plt.legend(loc='upper left')\n",
    "plt.axhline()\n",
    "plt.axvline()\n",
    "plt.grid()\n",
    "plt.show()"
   ]
  },
  {
   "cell_type": "markdown",
   "metadata": {},
   "source": [
    "#### Logarithmic Equation\n",
    "\n"
   ]
  },
  {
   "cell_type": "code",
   "execution_count": 57,
   "metadata": {},
   "outputs": [],
   "source": [
    "from sympy import *\n",
    "init_printing()"
   ]
  },
  {
   "cell_type": "code",
   "execution_count": 58,
   "metadata": {},
   "outputs": [
    {
     "data": {
      "image/png": "[encoded data removed]",
      "text/latex": [
       "$$x^{2} - 2 x + 1 = 0$$"
      ],
      "text/plain": [
       " 2              \n",
       "x  - 2⋅x + 1 = 0"
      ]
     },
     "execution_count": 58,
     "metadata": {},
     "output_type": "execute_result"
    }
   ],
   "source": [
    "x, y = symbols('x y')\n",
    "aa = Eq(x**2 - 2*x + 1)\n",
    "aa"
   ]
  },
  {
   "cell_type": "code",
   "execution_count": 59,
   "metadata": {},
   "outputs": [
    {
     "data": {
      "image/png": "[encoded data removed]",
      "text/latex": [
       "$$\\left [ 1\\right ]$$"
      ],
      "text/plain": [
       "[1]"
      ]
     },
     "execution_count": 59,
     "metadata": {},
     "output_type": "execute_result"
    }
   ],
   "source": [
    "solve(aa)"
   ]
  },
  {
   "cell_type": "code",
   "execution_count": 60,
   "metadata": {},
   "outputs": [
    {
     "data": {
      "image/png": "[encoded data removed]",
      "text/latex": [
       "$$1 + \\frac{\\log{\\left (7 \\right )}}{\\log{\\left (2 \\right )}}$$"
      ],
      "text/plain": [
       "    log(7)\n",
       "1 + ──────\n",
       "    log(2)"
      ]
     },
     "execution_count": 60,
     "metadata": {},
     "output_type": "execute_result"
    }
   ],
   "source": [
    "vv = log(14, 2)\n",
    "vv\n"
   ]
  },
  {
   "cell_type": "code",
   "execution_count": 61,
   "metadata": {},
   "outputs": [
    {
     "data": {
      "image/png": "[encoded data removed]",
      "text/latex": [
       "$$\\frac{\\log{\\left (14 \\right )}}{\\log{\\left (2 \\right )}}$$"
      ],
      "text/plain": [
       "log(14)\n",
       "───────\n",
       " log(2)"
      ]
     },
     "execution_count": 61,
     "metadata": {},
     "output_type": "execute_result"
    }
   ],
   "source": [
    "simplify(vv)"
   ]
  },
  {
   "cell_type": "code",
   "execution_count": 62,
   "metadata": {},
   "outputs": [
    {
     "data": {
      "image/png": "[encoded data removed]",
      "text/latex": [
       "$$1 + \\frac{\\log{\\left (7 \\right )}}{\\log{\\left (2 \\right )}}$$"
      ],
      "text/plain": [
       "    log(7)\n",
       "1 + ──────\n",
       "    log(2)"
      ]
     },
     "execution_count": 62,
     "metadata": {},
     "output_type": "execute_result"
    }
   ],
   "source": [
    "expand(vv)"
   ]
  },
  {
   "cell_type": "code",
   "execution_count": 63,
   "metadata": {},
   "outputs": [
    {
     "data": {
      "image/png": "[encoded data removed]",
      "text/latex": [
       "$$\\log{\\left (x^{2} - x - 30 \\right )}$$"
      ],
      "text/plain": [
       "   ⎛ 2         ⎞\n",
       "log⎝x  - x - 30⎠"
      ]
     },
     "execution_count": 63,
     "metadata": {},
     "output_type": "execute_result"
    }
   ],
   "source": [
    "s = log(x**2 - x - 30)\n",
    "t = x**2 - x - 30\n",
    "s"
   ]
  },
  {
   "cell_type": "code",
   "execution_count": 64,
   "metadata": {},
   "outputs": [
    {
     "data": {
      "image/png": "[encoded data removed]",
      "text/latex": [
       "$$\\left [ \\frac{1}{2} + \\frac{5 \\sqrt{5}}{2}, \\quad - \\frac{5 \\sqrt{5}}{2} + \\frac{1}{2}\\right ]$$"
      ],
      "text/plain": [
       "⎡1   5⋅√5    5⋅√5   1⎤\n",
       "⎢─ + ────, - ──── + ─⎥\n",
       "⎣2    2       2     2⎦"
      ]
     },
     "execution_count": 64,
     "metadata": {},
     "output_type": "execute_result"
    }
   ],
   "source": [
    "solve(s)"
   ]
  },
  {
   "cell_type": "code",
   "execution_count": 65,
   "metadata": {},
   "outputs": [
    {
     "data": {
      "image/png": "[encoded data removed]",
      "text/latex": [
       "$$\\left [ \\frac{1}{2} + \\frac{5 \\sqrt{5}}{2}, \\quad - \\frac{5 \\sqrt{5}}{2} + \\frac{1}{2}\\right ]$$"
      ],
      "text/plain": [
       "⎡1   5⋅√5    5⋅√5   1⎤\n",
       "⎢─ + ────, - ──── + ─⎥\n",
       "⎣2    2       2     2⎦"
      ]
     },
     "execution_count": 65,
     "metadata": {},
     "output_type": "execute_result"
    }
   ],
   "source": [
    "s1 = solve(s)\n",
    "simplify(s1)"
   ]
  },
  {
   "cell_type": "code",
   "execution_count": 66,
   "metadata": {},
   "outputs": [
    {
     "data": {
      "image/png": "[encoded data removed]",
      "text/latex": [
       "$$x^{2} - x - 30$$"
      ],
      "text/plain": [
       " 2         \n",
       "x  - x - 30"
      ]
     },
     "execution_count": 66,
     "metadata": {},
     "output_type": "execute_result"
    }
   ],
   "source": [
    "t\n"
   ]
  },
  {
   "cell_type": "code",
   "execution_count": 67,
   "metadata": {},
   "outputs": [
    {
     "data": {
      "image/png": "[encoded data removed]",
      "text/latex": [
       "$$\\left [ -5, \\quad 6\\right ]$$"
      ],
      "text/plain": [
       "[-5, 6]"
      ]
     },
     "execution_count": 67,
     "metadata": {},
     "output_type": "execute_result"
    }
   ],
   "source": [
    "solve(t)"
   ]
  },
  {
   "cell_type": "code",
   "execution_count": 68,
   "metadata": {},
   "outputs": [
    {
     "data": {
      "image/png": "[encoded data removed]",
      "text/latex": [
       "$$x^{2} - 4 x + 4$$"
      ],
      "text/plain": [
       " 2          \n",
       "x  - 4⋅x + 4"
      ]
     },
     "execution_count": 68,
     "metadata": {},
     "output_type": "execute_result"
    }
   ],
   "source": [
    "q = x**2 - 4*x + 4\n",
    "q"
   ]
  },
  {
   "cell_type": "code",
   "execution_count": 69,
   "metadata": {},
   "outputs": [
    {
     "data": {
      "image/png": "[encoded data removed]",
      "text/latex": [
       "$$\\left [ 2\\right ]$$"
      ],
      "text/plain": [
       "[2]"
      ]
     },
     "execution_count": 69,
     "metadata": {},
     "output_type": "execute_result"
    }
   ],
   "source": [
    "solve(q)"
   ]
  },
  {
   "cell_type": "code",
   "execution_count": null,
   "metadata": {},
   "outputs": [],
   "source": []
  },
  {
   "cell_type": "code",
   "execution_count": null,
   "metadata": {},
   "outputs": [],
   "source": []
  }
 ],
 "metadata": {
  "kernelspec": {
   "display_name": "Python 3",
   "language": "python",
   "name": "python3"
  },
  "language_info": {
   "codemirror_mode": {
    "name": "ipython",
    "version": 3
   },
   "file_extension": ".py",
   "mimetype": "text/x-python",
   "name": "python",
   "nbconvert_exporter": "python",
   "pygments_lexer": "ipython3",
   "version": "3.6.8"
  }
 },
 "nbformat": 4,
 "nbformat_minor": 2
}
