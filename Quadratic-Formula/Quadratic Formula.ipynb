{
 "cells": [
  {
   "cell_type": "markdown",
   "metadata": {},
   "source": [
    "## Quadratic Formula\n",
    "\n",
    "$$x = \\frac{-b\\pm\\sqrt{b^2 - 4ac}} {2a}$$ \n",
    "\n",
    "#### Example from: \n",
    "$x^2 + 3x - 4 = 0$"
   ]
  },
  {
   "cell_type": "code",
   "execution_count": 1,
   "metadata": {},
   "outputs": [],
   "source": [
    "import pandas as pd\n",
    "import numpy as np\n",
    "from sympy import *\n",
    "from matplotlib import pyplot as plt\n",
    "import math\n",
    "from math import *\n",
    "from matplotlib.pyplot import figure\n",
    "from matplotlib.pyplot import xticks\n"
   ]
  },
  {
   "cell_type": "code",
   "execution_count": 2,
   "metadata": {},
   "outputs": [
    {
     "data": {
      "text/plain": [
       "[-4, 1]"
      ]
     },
     "execution_count": 2,
     "metadata": {},
     "output_type": "execute_result"
    }
   ],
   "source": [
    "# Equation solver\n",
    "var('x y h k a b c')\n",
    "#solve(x**2 + 3*x - 4)\n",
    "y = x**2 + 3*x - 4\n",
    "solve(y)"
   ]
  },
  {
   "cell_type": "code",
   "execution_count": 3,
   "metadata": {},
   "outputs": [
    {
     "name": "stdout",
     "output_type": "stream",
     "text": [
      "Coefficient of x**2 + 3*x - 4: [1, 3, -4]\n"
     ]
    }
   ],
   "source": [
    "#Extract coefficient\n",
    "coeff = Poly(y, x)\n",
    "extract = coeff.coeffs()\n",
    "#extract_coeff.all_coeffs() #all_coeffs() including 0 while coeffs() disregard 0\n",
    "print('Coefficient of {}: {}'.format(y, coeff.all_coeffs()))\n"
   ]
  },
  {
   "cell_type": "code",
   "execution_count": 4,
   "metadata": {},
   "outputs": [
    {
     "data": {
      "text/plain": [
       "(x - 1)*(x + 4)"
      ]
     },
     "execution_count": 4,
     "metadata": {},
     "output_type": "execute_result"
    }
   ],
   "source": [
    "#Solve for the vertex (h, k) of quadratic equation\n",
    "quad = solve(y)\n",
    "#Facors\n",
    "factorized = factor(y)\n",
    "# Roots\n",
    "root = np.roots(extract)\n",
    "factorized\n"
   ]
  },
  {
   "cell_type": "code",
   "execution_count": 5,
   "metadata": {},
   "outputs": [
    {
     "data": {
      "text/plain": [
       "-3/2"
      ]
     },
     "execution_count": 5,
     "metadata": {},
     "output_type": "execute_result"
    }
   ],
   "source": [
    "# Use extract variable for assignment of values\n",
    "\n",
    "h1 = (-1*b) / (2*a) \n",
    "k1 = (4*a*c - (b**2)) /(4*a)\n",
    "h = h1.subs({a: extract[0], b: extract[1]})\n",
    "k = k1.subs({a: extract[0], b: extract[1], c: extract[2]})\n",
    "jj = x**2 + 3*x - 4\n",
    "j = jj.subs({x: h})\n",
    "h"
   ]
  },
  {
   "cell_type": "code",
   "execution_count": 6,
   "metadata": {},
   "outputs": [
    {
     "data": {
      "text/plain": [
       "-25/4"
      ]
     },
     "execution_count": 6,
     "metadata": {},
     "output_type": "execute_result"
    }
   ],
   "source": [
    "k"
   ]
  },
  {
   "cell_type": "code",
   "execution_count": 7,
   "metadata": {},
   "outputs": [
    {
     "data": {
      "text/html": [
       "<div>\n",
       "<style scoped>\n",
       "    .dataframe tbody tr th:only-of-type {\n",
       "        vertical-align: middle;\n",
       "    }\n",
       "\n",
       "    .dataframe tbody tr th {\n",
       "        vertical-align: top;\n",
       "    }\n",
       "\n",
       "    .dataframe thead th {\n",
       "        text-align: right;\n",
       "    }\n",
       "</style>\n",
       "<table border=\"1\" class=\"dataframe\">\n",
       "  <thead>\n",
       "    <tr style=\"text-align: right;\">\n",
       "      <th></th>\n",
       "      <th>x</th>\n",
       "      <th>y</th>\n",
       "    </tr>\n",
       "  </thead>\n",
       "  <tbody>\n",
       "    <tr>\n",
       "      <th>0</th>\n",
       "      <td>-12</td>\n",
       "      <td>104</td>\n",
       "    </tr>\n",
       "    <tr>\n",
       "      <th>1</th>\n",
       "      <td>-11</td>\n",
       "      <td>84</td>\n",
       "    </tr>\n",
       "    <tr>\n",
       "      <th>2</th>\n",
       "      <td>-10</td>\n",
       "      <td>66</td>\n",
       "    </tr>\n",
       "    <tr>\n",
       "      <th>3</th>\n",
       "      <td>-9</td>\n",
       "      <td>50</td>\n",
       "    </tr>\n",
       "    <tr>\n",
       "      <th>4</th>\n",
       "      <td>-8</td>\n",
       "      <td>36</td>\n",
       "    </tr>\n",
       "    <tr>\n",
       "      <th>5</th>\n",
       "      <td>-7</td>\n",
       "      <td>24</td>\n",
       "    </tr>\n",
       "    <tr>\n",
       "      <th>6</th>\n",
       "      <td>-6</td>\n",
       "      <td>14</td>\n",
       "    </tr>\n",
       "    <tr>\n",
       "      <th>7</th>\n",
       "      <td>-5</td>\n",
       "      <td>6</td>\n",
       "    </tr>\n",
       "    <tr>\n",
       "      <th>8</th>\n",
       "      <td>-4</td>\n",
       "      <td>0</td>\n",
       "    </tr>\n",
       "    <tr>\n",
       "      <th>9</th>\n",
       "      <td>-3</td>\n",
       "      <td>-4</td>\n",
       "    </tr>\n",
       "    <tr>\n",
       "      <th>10</th>\n",
       "      <td>-2</td>\n",
       "      <td>-6</td>\n",
       "    </tr>\n",
       "    <tr>\n",
       "      <th>11</th>\n",
       "      <td>-1</td>\n",
       "      <td>-6</td>\n",
       "    </tr>\n",
       "    <tr>\n",
       "      <th>12</th>\n",
       "      <td>0</td>\n",
       "      <td>-4</td>\n",
       "    </tr>\n",
       "    <tr>\n",
       "      <th>13</th>\n",
       "      <td>1</td>\n",
       "      <td>0</td>\n",
       "    </tr>\n",
       "    <tr>\n",
       "      <th>14</th>\n",
       "      <td>2</td>\n",
       "      <td>6</td>\n",
       "    </tr>\n",
       "    <tr>\n",
       "      <th>15</th>\n",
       "      <td>3</td>\n",
       "      <td>14</td>\n",
       "    </tr>\n",
       "    <tr>\n",
       "      <th>16</th>\n",
       "      <td>4</td>\n",
       "      <td>24</td>\n",
       "    </tr>\n",
       "    <tr>\n",
       "      <th>17</th>\n",
       "      <td>5</td>\n",
       "      <td>36</td>\n",
       "    </tr>\n",
       "    <tr>\n",
       "      <th>18</th>\n",
       "      <td>6</td>\n",
       "      <td>50</td>\n",
       "    </tr>\n",
       "    <tr>\n",
       "      <th>19</th>\n",
       "      <td>7</td>\n",
       "      <td>66</td>\n",
       "    </tr>\n",
       "  </tbody>\n",
       "</table>\n",
       "</div>"
      ],
      "text/plain": [
       "     x    y\n",
       "0  -12  104\n",
       "1  -11   84\n",
       "2  -10   66\n",
       "3   -9   50\n",
       "4   -8   36\n",
       "5   -7   24\n",
       "6   -6   14\n",
       "7   -5    6\n",
       "8   -4    0\n",
       "9   -3   -4\n",
       "10  -2   -6\n",
       "11  -1   -6\n",
       "12   0   -4\n",
       "13   1    0\n",
       "14   2    6\n",
       "15   3   14\n",
       "16   4   24\n",
       "17   5   36\n",
       "18   6   50\n",
       "19   7   66"
      ]
     },
     "execution_count": 7,
     "metadata": {},
     "output_type": "execute_result"
    },
    {
     "data": {
      "image/png": "[encoded data removed]",
      "text/plain": [
       "<Figure size 720x560 with 1 Axes>"
      ]
     },
     "metadata": {},
     "output_type": "display_data"
    }
   ],
   "source": [
    "def plot_quadraticFormula(a, b, c):\n",
    "    \n",
    "    vertex_x = (-1*b)/(2*a)\n",
    "    vertex_y = (4*a*c - (b**2))/(4*a)\n",
    "    \n",
    "    minx = round(vertex_x) - 10\n",
    "    maxx = round(vertex_x) + 10\n",
    "    \n",
    "    df = pd.DataFrame({'x': range(minx, maxx)})\n",
    "    df['y'] = a*df['x']**2 + b*df['x'] + c\n",
    "    \n",
    "    #Min and Max of y\n",
    "    miny = df.y.min()\n",
    "    maxy = df.y.max()\n",
    "    \n",
    "    #Plot the points\n",
    "    %matplotlib inline\n",
    "    figure(num=None, figsize=(9, 7), dpi=80, facecolor='w', edgecolor='k')\n",
    "    plt.plot(df.x, df.y, 'grey', label= 'y = x**2 + 3x - 4')\n",
    "    plt.title('Graph of {}'.format(y))\n",
    "    plt.xlabel('X')\n",
    "    plt.ylabel('Y')\n",
    "    plt.axhline()\n",
    "    plt.axvline()\n",
    "    plt.legend(loc='upper right')\n",
    "    plt.grid()\n",
    "    xticks(df.x)\n",
    "  \n",
    "    \n",
    "    #Quadratic formula\n",
    "    neg_quad = (-1*b - sqrt((b**2) - (4*a*c))) / (2*a)\n",
    "    pos_quad = (-1*b + sqrt((b**2) - (4*a*c))) / (2*a)\n",
    "    \n",
    "    # Plot calculated x values for y = 0\n",
    "    plt.scatter([neg_quad, pos_quad], [0,0], color='b')\n",
    "    plt.annotate('-x=' + str(neg_quad), (neg_quad, 3))\n",
    "    plt.annotate('+x=' + str(pos_quad), (pos_quad, 4))\n",
    "    #plt.annotate('-x=' + str(neg_quad) + ',' + str(0),(neg_quad, 0), xytext=(neg_quad -3, 5))\n",
    "    #plt.annotate('+x=' + str(pos_quad) + ',' + str(0),(pos_quad, 0), xytext=(pos_quad -3, -10))\n",
    "\n",
    "    \n",
    "    \n",
    "    #Plot line of symmetry\n",
    "    sx = [vertex_x, vertex_x]\n",
    "    sy = [miny, maxy]\n",
    "    plt.plot(sx, sy, color='m')\n",
    "    \n",
    "    \n",
    "    # Annotate the vertex\n",
    "    plt.scatter(vertex_x, vertex_y, color='m')\n",
    "    plt.annotate('vertex: [{}, {}]'.format(vertex_x, vertex_y), (vertex_x, vertex_y))\n",
    "    \n",
    "    return df\n",
    "    plt.show()\n",
    "\n",
    "\n",
    "plot_quadraticFormula(1, 3, -4)"
   ]
  }
 ],
 "metadata": {
  "kernelspec": {
   "display_name": "Python 3",
   "language": "python",
   "name": "python3"
  },
  "language_info": {
   "codemirror_mode": {
    "name": "ipython",
    "version": 3
   },
   "file_extension": ".py",
   "mimetype": "text/x-python",
   "name": "python",
   "nbconvert_exporter": "python",
   "pygments_lexer": "ipython3",
   "version": "3.6.8"
  }
 },
 "nbformat": 4,
 "nbformat_minor": 2
}
