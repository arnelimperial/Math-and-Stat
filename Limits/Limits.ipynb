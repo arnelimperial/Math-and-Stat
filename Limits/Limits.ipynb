{
 "cells": [
  {
   "cell_type": "markdown",
   "metadata": {},
   "source": [
    "# Limit\n",
    "\n",
    "Problem 1. Estimate the value of the following limits:[$^1$](http://tutorial.math.lamar.edu/Classes/CalcI/TheLimit.aspx) \n",
    "$$f(x) = \\lim_{x\\to2} \\frac{x^2 +4x -12}{x^2 -2x}$$\n",
    "\n",
    "\n",
    "\n",
    "\n",
    "\n",
    "\n",
    "-----------\n",
    "\n",
    "1. Calculus I - The Limit, , accessed May 01, 2019, http://tutorial.math.lamar.edu/Classes/CalcI/TheLimit.aspx."
   ]
  },
  {
   "cell_type": "code",
   "execution_count": 1,
   "metadata": {},
   "outputs": [
    {
     "ename": "NameError",
     "evalue": "name 'xmin' is not defined",
     "output_type": "error",
     "traceback": [
      "\u001b[0;31m---------------------------------------------------------------------------\u001b[0m",
      "\u001b[0;31mNameError\u001b[0m                                 Traceback (most recent call last)",
      "\u001b[0;32m<ipython-input-1-a348e2883b2b>\u001b[0m in \u001b[0;36m<module>\u001b[0;34m\u001b[0m\n\u001b[1;32m     22\u001b[0m \u001b[0;34m\u001b[0m\u001b[0m\n\u001b[1;32m     23\u001b[0m \u001b[0mx\u001b[0m \u001b[0;34m=\u001b[0m \u001b[0mnp\u001b[0m\u001b[0;34m.\u001b[0m\u001b[0mlinspace\u001b[0m\u001b[0;34m(\u001b[0m\u001b[0;36m1.99\u001b[0m\u001b[0;34m,\u001b[0m \u001b[0;36m2.01\u001b[0m\u001b[0;34m,\u001b[0m \u001b[0;36m20\u001b[0m\u001b[0;34m)\u001b[0m\u001b[0;31m# range from 1.9 ---> 2\u001b[0m\u001b[0;34m\u001b[0m\u001b[0;34m\u001b[0m\u001b[0m\n\u001b[0;32m---> 24\u001b[0;31m \u001b[0my1\u001b[0m \u001b[0;34m=\u001b[0m \u001b[0;34m[\u001b[0m\u001b[0mf\u001b[0m\u001b[0;34m(\u001b[0m\u001b[0mi\u001b[0m\u001b[0;34m)\u001b[0m \u001b[0;32mfor\u001b[0m \u001b[0mi\u001b[0m \u001b[0;32min\u001b[0m \u001b[0mxmin\u001b[0m\u001b[0;34m]\u001b[0m\u001b[0;34m\u001b[0m\u001b[0;34m\u001b[0m\u001b[0m\n\u001b[0m\u001b[1;32m     25\u001b[0m \u001b[0my2\u001b[0m \u001b[0;34m=\u001b[0m \u001b[0;34m[\u001b[0m\u001b[0mf\u001b[0m\u001b[0;34m(\u001b[0m\u001b[0mi\u001b[0m\u001b[0;34m)\u001b[0m \u001b[0;32mfor\u001b[0m \u001b[0mi\u001b[0m \u001b[0;32min\u001b[0m \u001b[0mxmax\u001b[0m\u001b[0;34m]\u001b[0m\u001b[0;34m\u001b[0m\u001b[0;34m\u001b[0m\u001b[0m\n\u001b[1;32m     26\u001b[0m \u001b[0;34m\u001b[0m\u001b[0m\n",
      "\u001b[0;31mNameError\u001b[0m: name 'xmin' is not defined"
     ]
    }
   ],
   "source": [
    "import numpy as np\n",
    "from sympy import *\n",
    "from matplotlib import pyplot as plt\n",
    "import pandas as pd\n",
    "init_printing(use_unicode=False, wrap_line=False)\n",
    "\n",
    "\n",
    "def f(x):\n",
    "    try:\n",
    "        return (x**2 + 4*x -12) / (x**2 -2*x)\n",
    "    \n",
    "    except ZeroDivisionError as e:\n",
    "        return('x == {} makes the function undefined'.format(x))\n",
    "        pass\n",
    "    except Exception as err:\n",
    "        print('{} cause an error'.format(x))\n",
    "        pass\n",
    "\n",
    "\n",
    "#xmin = int(np.linspace(1.9, 2, 15))\n",
    "#xmax = int(np.linspace(2, 2.06, 15))\n",
    "\n",
    "x = np.linspace(1.99, 2.01, 20)# range from 1.9 ---> 2\n",
    "y1 = [f(i) for i in xmin]\n",
    "y2 = [f(i) for i in xmax]\n",
    "\n",
    "\n",
    "\n",
    "df = pd.DataFrame({'x': x})\n",
    "\n",
    "df['y'] = f(df['x'])\n"
   ]
  },
  {
   "cell_type": "code",
   "execution_count": null,
   "metadata": {},
   "outputs": [],
   "source": [
    "x"
   ]
  },
  {
   "cell_type": "code",
   "execution_count": null,
   "metadata": {},
   "outputs": [],
   "source": [
    "y1"
   ]
  },
  {
   "cell_type": "code",
   "execution_count": null,
   "metadata": {},
   "outputs": [],
   "source": [
    "xmax"
   ]
  },
  {
   "cell_type": "code",
   "execution_count": null,
   "metadata": {},
   "outputs": [],
   "source": [
    "y2"
   ]
  },
  {
   "cell_type": "code",
   "execution_count": null,
   "metadata": {},
   "outputs": [],
   "source": [
    "df"
   ]
  },
  {
   "cell_type": "code",
   "execution_count": null,
   "metadata": {},
   "outputs": [],
   "source": [
    "from sympy import *\n",
    "var('x')\n",
    "eq = (x**2 + 4*x -12) / (x**2 -2*x)\n",
    "lf = 2\n",
    "limiting_factor = eq.subs(x, lf)\n",
    "limiting_factor"
   ]
  },
  {
   "cell_type": "code",
   "execution_count": null,
   "metadata": {},
   "outputs": [],
   "source": []
  },
  {
   "cell_type": "code",
   "execution_count": null,
   "metadata": {},
   "outputs": [],
   "source": []
  },
  {
   "cell_type": "code",
   "execution_count": null,
   "metadata": {},
   "outputs": [],
   "source": [
    "#f(x) = 2**x-4 + 3\n",
    "\n",
    "import numpy as np\n",
    "from sympy import *\n",
    "from matplotlib import pyplot as plt\n",
    "from matplotlib.pyplot import figure\n",
    "from matplotlib.pyplot import xticks, yticks\n",
    "import pandas as pd\n",
    "init_printing(use_unicode=False, wrap_line=False)\n",
    "\n",
    "\n",
    "def f(x):\n",
    "    return 2**x-4 + (3)\n",
    "\n",
    "x = list(range(-5, 6))\n",
    "y = [f(i) for i in x]\n",
    "\n",
    "%matplotlib inline\n",
    "figure(num=None, figsize=(10, 8), dpi=80, facecolor='w', edgecolor='k')\n",
    "plt.plot(x, y, color='lightgrey', marker='o', markeredgecolor='m', markerfacecolor='m')\n",
    "plt.xticks(np.arange(min(x), max(x)+1, 1.0))\n",
    "plt.yticks(np.arange(min(y), max(y)+1, 1.0))\n",
    "plt.axvline()\n",
    "plt.axhline()\n",
    "\n",
    "plt.show()"
   ]
  },
  {
   "cell_type": "code",
   "execution_count": null,
   "metadata": {},
   "outputs": [],
   "source": []
  }
 ],
 "metadata": {
  "kernelspec": {
   "display_name": "Python 3",
   "language": "python",
   "name": "python3"
  },
  "language_info": {
   "codemirror_mode": {
    "name": "ipython",
    "version": 3
   },
   "file_extension": ".py",
   "mimetype": "text/x-python",
   "name": "python",
   "nbconvert_exporter": "python",
   "pygments_lexer": "ipython3",
   "version": "3.6.8"
  }
 },
 "nbformat": 4,
 "nbformat_minor": 2
}
