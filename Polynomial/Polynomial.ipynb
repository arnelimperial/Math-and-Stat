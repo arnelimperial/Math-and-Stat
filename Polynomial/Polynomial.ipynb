{
 "cells": [
  {
   "cell_type": "markdown",
   "metadata": {},
   "source": [
    "# Polynomial\n",
    "\n",
    "> Polynomial, In algebra, an expression consisting of numbers and variables grouped according to certain patterns. Specifically, polynomials are sums of monomials of the form axn, where a (the coefficient) can be any real number and n (the degree) must be a whole number. A polynomial’s degree is that of its monomial of highest degree. Like whole numbers, polynomials may be prime or factorable into products of primes.[$^1$](https://www.britannica.com/science/polynomial)\n",
    "<br>\n",
    "\n",
    "> A Polynomial is any algebraic expression that consists of more than 2 terms in which the only allowable exponents are whole numbers, the variable is never used as a divisor and never appears under a radical sign. Technically, many consider polynomials to consist of 4 terms or more because 2 and 3 term equations are named. [$^2$](https://www.answers.com/Q/What_is_a_polynomial)\n",
    "\n",
    "<br>\n",
    "\n",
    "> The roots of a polynomial are also called its zeroes, because the roots are the x values at which the function equals zero.[$^3$](https://sciencing.com/how-to-find-the-roots-of-a-polynomial-13712254.html) \n",
    "\n",
    "## Polynomial function\n",
    "> Can be defined as: [$f'(x) = a_nx^n+a_{n-1}x^{n-1} + .........a_1x^1+a_0$](https://www.youtube.com/watch?v=-ZwTxxKfj2o)\n",
    "#### Constraints[$^4$](https://www.youtube.com/watch?v=-ZwTxxKfj2o)\n",
    "\n",
    "- Any terms cannot be equal to zero: $a_n\\neq0$\n",
    "- $n$ should be non-negative integer; any rational exponents, negative numbers and negative exponents cannot be part of polynomial functions.\n",
    "\n",
    "##### Example of non-polynomial\n",
    "$f'(x) = 0$<br>\n",
    "$f'(x) = x^\\frac{1}{2}$<br>\n",
    "$f'(x) = 13x1$<br>\n",
    "$f'(x) = x^{-2}$\n",
    "\n",
    "\n",
    "\n",
    "\n",
    "\n",
    "\n",
    "$--------$\n",
    "\n",
    "1. The Editors of Encyclopaedia Britannica, \"Polynomial,\" Encyclopædia Britannica, September 30, 2013, , accessed April 19, 2019, https://www.britannica.com/science/polynomial.\n",
    "2. \"What Is a Polynomial?\" Answers.com, , accessed April 19, 2019, https://www.answers.com/Q/What_is_a_polynomial.\n",
    "3. Lisa Maloney, \"How to Find the Roots of a Polynomial,\" Sciencing, March 02, 2019, , accessed April 19, 2019, https://sciencing.com/how-to-find-the-roots-of-a-polynomial-13712254.html.\n",
    "4. Brian McLogan, \"What Is a Polynomial Function,\" YouTube, August 29, 2012, , accessed April 20, 2019, https://www.youtube.com/watch?v=_AXlBBfVJQU. \n"
   ]
  },
  {
   "cell_type": "code",
   "execution_count": 1,
   "metadata": {},
   "outputs": [],
   "source": [
    "from sympy import *\n",
    "#init_printing()\n",
    "init_printing(use_unicode=False, wrap_line=False)\n",
    "#init_printing(use_unicode=True)"
   ]
  },
  {
   "cell_type": "code",
   "execution_count": 2,
   "metadata": {},
   "outputs": [],
   "source": [
    "import numpy as np\n",
    "import math\n",
    "from math import floor, ceil, log, sqrt\n"
   ]
  },
  {
   "cell_type": "code",
   "execution_count": 3,
   "metadata": {},
   "outputs": [],
   "source": [
    "import pandas as pd"
   ]
  },
  {
   "cell_type": "code",
   "execution_count": 4,
   "metadata": {},
   "outputs": [],
   "source": [
    "from statistics import mean"
   ]
  },
  {
   "cell_type": "code",
   "execution_count": 5,
   "metadata": {},
   "outputs": [],
   "source": [
    "from matplotlib import pyplot as plt\n",
    "from matplotlib.pyplot import figure\n",
    "from matplotlib.pyplot import xticks"
   ]
  },
  {
   "cell_type": "markdown",
   "metadata": {},
   "source": [
    "#### Sample problem: \n",
    "Find all the zeroes of $y = 2x^5 + 3x^4 – 30x^3 – 57x^2 – 2x + 24$\n",
    "> Asking to find the zeroes of a polynomial function, y equals (polynomial), means the same thing as asking to find the solutions to a polynomial equation, (polynomial) equals (zero). The zeroes of a polynomial are the values of x that make the polynomial equal to zero. Either task may be referred to as \"solving the polynomial\".[$^5$](https://www.purplemath.com/modules/solvpoly.htm)\n",
    "\n",
    "$--------$\n",
    "5. Elizabeth Stapel, \"Solving Polynomials,\" Purplemath, , accessed April 19, 2019, https://www.purplemath.com/modules/solvpoly.htm."
   ]
  },
  {
   "cell_type": "code",
   "execution_count": 6,
   "metadata": {},
   "outputs": [],
   "source": [
    "x, y = symbols('x y')"
   ]
  },
  {
   "cell_type": "code",
   "execution_count": 7,
   "metadata": {},
   "outputs": [
    {
     "data": {
      "image/png": "[encoded data removed]",
      "text/latex": [
       "$$2 x^{5} + 3 x^{4} - 30 x^{3} - 57 x^{2} - 2 x + 24$$"
      ],
      "text/plain": [
       "   5      4       3       2           \n",
       "2*x  + 3*x  - 30*x  - 57*x  - 2*x + 24"
      ]
     },
     "execution_count": 7,
     "metadata": {},
     "output_type": "execute_result"
    }
   ],
   "source": [
    "y = 2*x**5 + 3*x**4 - 30*x**3 - 57*x**2 -2*x + 24\n",
    "#print y\n",
    "#init_printing()\n",
    "y"
   ]
  },
  {
   "cell_type": "code",
   "execution_count": 8,
   "metadata": {},
   "outputs": [
    {
     "data": {
      "image/png": "[encoded data removed]",
      "text/latex": [
       "$$\\left(x - 4\\right) \\left(x + 1\\right) \\left(2 x + 3\\right) \\left(x^{2} + 3 x - 2\\right)$$"
      ],
      "text/plain": [
       "                          / 2          \\\n",
       "(x - 4)*(x + 1)*(2*x + 3)*\\x  + 3*x - 2/"
      ]
     },
     "execution_count": 8,
     "metadata": {},
     "output_type": "execute_result"
    }
   ],
   "source": [
    "#Get the factorization; takes a polynomial and factors it into irreducible factors over the rational numbers\n",
    "factorization = factor(y)\n",
    "factorization"
   ]
  },
  {
   "cell_type": "code",
   "execution_count": 9,
   "metadata": {},
   "outputs": [
    {
     "data": {
      "image/png": "[encoded data removed]",
      "text/latex": [
       "$$2 x^{5} + 3 x^{4} - 30 x^{3} - 57 x^{2} - 2 x + 24$$"
      ],
      "text/plain": [
       "   5      4       3       2           \n",
       "2*x  + 3*x  - 30*x  - 57*x  - 2*x + 24"
      ]
     },
     "execution_count": 9,
     "metadata": {},
     "output_type": "execute_result"
    }
   ],
   "source": [
    "apart(2*x**5 + 3*x**4 - 30*x**3 - 57*x**2 -2*x + 24)"
   ]
  },
  {
   "cell_type": "code",
   "execution_count": 10,
   "metadata": {},
   "outputs": [
    {
     "data": {
      "image/png": "[encoded data removed]",
      "text/latex": [
       "$$\\operatorname{Poly}{\\left( 2 x^{5} + 3 x^{4} - 30 x^{3} - 57 x^{2} - 2 x + 24, x, domain=\\mathbb{Z} \\right)}$$"
      ],
      "text/plain": [
       "Poly(2*x**5 + 3*x**4 - 30*x**3 - 57*x**2 - 2*x + 24, x, domain='ZZ')"
      ]
     },
     "execution_count": 10,
     "metadata": {},
     "output_type": "execute_result"
    }
   ],
   "source": [
    "equation = y.as_poly()\n",
    "equation"
   ]
  },
  {
   "cell_type": "code",
   "execution_count": 11,
   "metadata": {},
   "outputs": [
    {
     "data": {
      "text/plain": [
       "array([ 4.        , -3.56155281, -1.5       , -1.        ,  0.56155281])"
      ]
     },
     "execution_count": 11,
     "metadata": {},
     "output_type": "execute_result"
    }
   ],
   "source": [
    "#Get the roots from the coefficient of y\n",
    "coeff = [2, 3, -30, -57, -2, 24]\n",
    "root = np.roots(coeff)\n",
    "root\n"
   ]
  },
  {
   "cell_type": "code",
   "execution_count": 12,
   "metadata": {},
   "outputs": [
    {
     "data": {
      "image/png": "[encoded data removed]",
      "text/latex": [
       "$$\\left [ - \\frac{3}{2}, \\quad -1, \\quad 4, \\quad - \\frac{3}{2} + \\frac{\\sqrt{17}}{2}, \\quad - \\frac{\\sqrt{17}}{2} - \\frac{3}{2}\\right ]$$"
      ],
      "text/plain": [
       "                      ____      ____     \n",
       "                3   \\/ 17     \\/ 17    3 \n",
       "[-3/2, -1, 4, - - + ------, - ------ - -]\n",
       "                2     2         2      2 "
      ]
     },
     "execution_count": 12,
     "metadata": {},
     "output_type": "execute_result"
    }
   ],
   "source": [
    "result = solve(factorization)\n",
    "result"
   ]
  },
  {
   "cell_type": "code",
   "execution_count": 13,
   "metadata": {},
   "outputs": [
    {
     "name": "stdout",
     "output_type": "stream",
     "text": [
      "0\n",
      "0\n"
     ]
    }
   ],
   "source": [
    "# Plug the values of x from the original equation through substitution\n",
    "x_value1 = -1\n",
    "x_value2 = 4\n",
    "\n",
    "y_set1 = y.subs(x, x_value1)\n",
    "y_set2 = y.subs(x, x_value2)\n",
    "\n",
    "print(y_set1)\n",
    "print(y_set2)\n",
    "# All equate to zero"
   ]
  },
  {
   "cell_type": "code",
   "execution_count": 14,
   "metadata": {},
   "outputs": [
    {
     "name": "stdout",
     "output_type": "stream",
     "text": [
      "0\n",
      "0\n"
     ]
    }
   ],
   "source": [
    "# Plug the values of x from the factorization equation through substitution\n",
    "y_sets1 = factorization.subs(x, x_value1)\n",
    "y_sets2 = factorization.subs(x, x_value2)\n",
    "\n",
    "print(y_sets1)\n",
    "print(y_sets2)\n",
    "# All equate to zero"
   ]
  },
  {
   "cell_type": "code",
   "execution_count": 15,
   "metadata": {},
   "outputs": [
    {
     "data": {
      "text/plain": [
       "True"
      ]
     },
     "execution_count": 15,
     "metadata": {},
     "output_type": "execute_result"
    }
   ],
   "source": [
    "#Test original equation to factorization for checking\n",
    "from random import randint\n",
    "x1 = randint(3,100)\n",
    "\n",
    "factor1 = factorization.subs(x, x1)\n",
    "original = y.subs(x, x1)\n",
    "\n",
    "original == factor1\n"
   ]
  },
  {
   "cell_type": "code",
   "execution_count": 16,
   "metadata": {},
   "outputs": [
    {
     "name": "stdout",
     "output_type": "stream",
     "text": [
      "y-intercept: (0, 24)\n"
     ]
    }
   ],
   "source": [
    "#Find the y-intercept in the original equation; that is x-intercept == 0, plug all x with 0\n",
    "\n",
    "y_intercept = factorization.subs(x, 0)\n",
    "print('y-intercept: (0, {})'.format(y_intercept))"
   ]
  },
  {
   "cell_type": "code",
   "execution_count": 17,
   "metadata": {},
   "outputs": [
    {
     "data": {
      "text/html": [
       "<div>\n",
       "<style scoped>\n",
       "    .dataframe tbody tr th:only-of-type {\n",
       "        vertical-align: middle;\n",
       "    }\n",
       "\n",
       "    .dataframe tbody tr th {\n",
       "        vertical-align: top;\n",
       "    }\n",
       "\n",
       "    .dataframe thead th {\n",
       "        text-align: right;\n",
       "    }\n",
       "</style>\n",
       "<table border=\"1\" class=\"dataframe\">\n",
       "  <thead>\n",
       "    <tr style=\"text-align: right;\">\n",
       "      <th></th>\n",
       "      <th>x</th>\n",
       "      <th>y</th>\n",
       "    </tr>\n",
       "  </thead>\n",
       "  <tbody>\n",
       "    <tr>\n",
       "      <th>0</th>\n",
       "      <td>-10</td>\n",
       "      <td>-145656</td>\n",
       "    </tr>\n",
       "    <tr>\n",
       "      <th>1</th>\n",
       "      <td>-9</td>\n",
       "      <td>-81120</td>\n",
       "    </tr>\n",
       "    <tr>\n",
       "      <th>2</th>\n",
       "      <td>-8</td>\n",
       "      <td>-41496</td>\n",
       "    </tr>\n",
       "    <tr>\n",
       "      <th>3</th>\n",
       "      <td>-7</td>\n",
       "      <td>-18876</td>\n",
       "    </tr>\n",
       "    <tr>\n",
       "      <th>4</th>\n",
       "      <td>-6</td>\n",
       "      <td>-7200</td>\n",
       "    </tr>\n",
       "    <tr>\n",
       "      <th>5</th>\n",
       "      <td>-5</td>\n",
       "      <td>-2016</td>\n",
       "    </tr>\n",
       "    <tr>\n",
       "      <th>6</th>\n",
       "      <td>-4</td>\n",
       "      <td>-240</td>\n",
       "    </tr>\n",
       "    <tr>\n",
       "      <th>7</th>\n",
       "      <td>-3</td>\n",
       "      <td>84</td>\n",
       "    </tr>\n",
       "    <tr>\n",
       "      <th>8</th>\n",
       "      <td>-2</td>\n",
       "      <td>24</td>\n",
       "    </tr>\n",
       "    <tr>\n",
       "      <th>9</th>\n",
       "      <td>-1</td>\n",
       "      <td>0</td>\n",
       "    </tr>\n",
       "    <tr>\n",
       "      <th>10</th>\n",
       "      <td>0</td>\n",
       "      <td>24</td>\n",
       "    </tr>\n",
       "    <tr>\n",
       "      <th>11</th>\n",
       "      <td>1</td>\n",
       "      <td>-60</td>\n",
       "    </tr>\n",
       "    <tr>\n",
       "      <th>12</th>\n",
       "      <td>2</td>\n",
       "      <td>-336</td>\n",
       "    </tr>\n",
       "    <tr>\n",
       "      <th>13</th>\n",
       "      <td>3</td>\n",
       "      <td>-576</td>\n",
       "    </tr>\n",
       "    <tr>\n",
       "      <th>14</th>\n",
       "      <td>4</td>\n",
       "      <td>0</td>\n",
       "    </tr>\n",
       "    <tr>\n",
       "      <th>15</th>\n",
       "      <td>5</td>\n",
       "      <td>2964</td>\n",
       "    </tr>\n",
       "    <tr>\n",
       "      <th>16</th>\n",
       "      <td>6</td>\n",
       "      <td>10920</td>\n",
       "    </tr>\n",
       "    <tr>\n",
       "      <th>17</th>\n",
       "      <td>7</td>\n",
       "      <td>27744</td>\n",
       "    </tr>\n",
       "    <tr>\n",
       "      <th>18</th>\n",
       "      <td>8</td>\n",
       "      <td>58824</td>\n",
       "    </tr>\n",
       "    <tr>\n",
       "      <th>19</th>\n",
       "      <td>9</td>\n",
       "      <td>111300</td>\n",
       "    </tr>\n",
       "    <tr>\n",
       "      <th>20</th>\n",
       "      <td>10</td>\n",
       "      <td>194304</td>\n",
       "    </tr>\n",
       "  </tbody>\n",
       "</table>\n",
       "</div>"
      ],
      "text/plain": [
       "     x       y\n",
       "0  -10 -145656\n",
       "1   -9  -81120\n",
       "2   -8  -41496\n",
       "3   -7  -18876\n",
       "4   -6   -7200\n",
       "5   -5   -2016\n",
       "6   -4    -240\n",
       "7   -3      84\n",
       "8   -2      24\n",
       "9   -1       0\n",
       "10   0      24\n",
       "11   1     -60\n",
       "12   2    -336\n",
       "13   3    -576\n",
       "14   4       0\n",
       "15   5    2964\n",
       "16   6   10920\n",
       "17   7   27744\n",
       "18   8   58824\n",
       "19   9  111300\n",
       "20  10  194304"
      ]
     },
     "execution_count": 17,
     "metadata": {},
     "output_type": "execute_result"
    }
   ],
   "source": [
    "# Plot x and y intercept\n",
    "df = pd.DataFrame({'x': range(-10, 11)})\n",
    "df['y'] = (df['x'] - 4)*(df['x'] + 1)*(2*df['x']+3)*(df['x']**2+3*df['x'] - 2)\n",
    "m, b = np.polyfit(df.x, df.y, 1)\n",
    "\n",
    "df"
   ]
  },
  {
   "cell_type": "code",
   "execution_count": 18,
   "metadata": {},
   "outputs": [
    {
     "data": {
      "image/png": "[encoded data removed]",
      "text/plain": [
       "<Figure size 800x560 with 1 Axes>"
      ]
     },
     "metadata": {},
     "output_type": "display_data"
    }
   ],
   "source": [
    "%matplotlib inline\n",
    "figure(num=None, figsize=(10, 7), dpi=80, facecolor='w', edgecolor='k')\n",
    "plt.plot((df.x), (df.y / 10**4), linestyle='None', markersize = 7.0, marker='o', label='y = {}'.format(factorization))\n",
    "sup = str.maketrans(\"2\", \"²\")\n",
    "plt.title('Graph of y = {}'.format(factorization), color='m')\n",
    "plt.xlabel('X')\n",
    "plt.ylabel('Y')\n",
    "plt.axhline(color='k')\n",
    "plt.axvline(color='k')\n",
    "plt.legend(loc='upper left')\n",
    "plt.annotate('x-intercept1', (4, 0), color='r')\n",
    "plt.annotate('x-intercept2', (-1, 0), color='g')\n",
    "plt.annotate('y-intercept', (0, 24), color='m')\n",
    "xticks(df.x)\n",
    "\n",
    "plt.show()"
   ]
  },
  {
   "cell_type": "code",
   "execution_count": 19,
   "metadata": {},
   "outputs": [
    {
     "data": {
      "image/png": "[encoded data removed]",
      "text/latex": [
       "$$8301.428571428576$$"
      ],
      "text/plain": [
       "8301.428571428576"
      ]
     },
     "execution_count": 19,
     "metadata": {},
     "output_type": "execute_result"
    }
   ],
   "source": [
    "#Find the slope\n",
    "m"
   ]
  },
  {
   "cell_type": "code",
   "execution_count": 20,
   "metadata": {},
   "outputs": [
    {
     "data": {
      "image/png": "[encoded data removed]",
      "text/latex": [
       "$$5171.999999999998$$"
      ],
      "text/plain": [
       "5171.999999999998"
      ]
     },
     "execution_count": 20,
     "metadata": {},
     "output_type": "execute_result"
    }
   ],
   "source": [
    "#Find intercept\n",
    "# Can graph using slope-intercept form y = mx + b; x as df['x']\n",
    "b\n"
   ]
  },
  {
   "cell_type": "code",
   "execution_count": 21,
   "metadata": {},
   "outputs": [
    {
     "data": {
      "image/png": "[encoded data removed]",
      "text/latex": [
       "$$\\frac{6 x^{2} + 4 x}{2 x}$$"
      ],
      "text/plain": [
       "   2      \n",
       "6*x  + 4*x\n",
       "----------\n",
       "   2*x    "
      ]
     },
     "execution_count": 21,
     "metadata": {},
     "output_type": "execute_result"
    }
   ],
   "source": [
    "#Example of getting the roots of polynomial\n",
    "bb = (4*x + 6*x**2) / (2*x) \n",
    "bb\n"
   ]
  },
  {
   "cell_type": "code",
   "execution_count": 22,
   "metadata": {},
   "outputs": [
    {
     "data": {
      "image/png": "[encoded data removed]",
      "text/latex": [
       "$$3 x + 2$$"
      ],
      "text/plain": [
       "3*x + 2"
      ]
     },
     "execution_count": 22,
     "metadata": {},
     "output_type": "execute_result"
    }
   ],
   "source": [
    "# Simpler form\n",
    "factor(bb)"
   ]
  }
 ],
 "metadata": {
  "kernelspec": {
   "display_name": "Python 3",
   "language": "python",
   "name": "python3"
  },
  "language_info": {
   "codemirror_mode": {
    "name": "ipython",
    "version": 3
   },
   "file_extension": ".py",
   "mimetype": "text/x-python",
   "name": "python",
   "nbconvert_exporter": "python",
   "pygments_lexer": "ipython3",
   "version": "3.6.8"
  }
 },
 "nbformat": 4,
 "nbformat_minor": 2
}
