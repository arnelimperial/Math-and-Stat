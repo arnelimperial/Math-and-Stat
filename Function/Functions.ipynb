{
 "cells": [
  {
   "cell_type": "markdown",
   "metadata": {},
   "source": [
    "# Functions\n",
    "### Domain of Functions \n",
    "Sets of all independent or input values/functions that can output dependent values that is true or defined.\n",
    "$$D = \\mathbb{R} \\ x\\neq0$$\n",
    "\n",
    "### Implied Domain of functions\n",
    "Example:<br>\n",
    "$y = \\frac{1}{x}, x \\neq 0$<br><br>\n",
    "$y = \\sqrt{x}, x \\neq -\\mathbb{R}$<br><br>\n",
    "$f(x) = 3x + 4$&nbsp;&nbsp;&nbsp;&nbsp;$\\mathbb{R}$<br><br>\n",
    "$f(x) = \\sqrt{25 - x^2}$&nbsp;&nbsp;&nbsp;&nbsp;$D = [-\\infty, -5)\\cup(5, \\infty]$<br><br>\n",
    "$h(x) = \\frac{x}{x^2 - x + 6}$&nbsp;&nbsp;&nbsp;&nbsp;$\\mathbb{R}, x \\neq$<br><br>\n",
    "$f(x) = | x + 1 |$&nbsp;&nbsp;&nbsp;&nbsp;$D = (-\\infty, \\infty)$ <br><br>\n",
    "$f(x) = \\frac {2} {x^2 + 3}$&nbsp;&nbsp;&nbsp;&nbsp;$\\ D = (-\\infty, \\infty)$ because of restriction of $x^2 \\neq -3$<br><br>\n",
    "$f(x) = \\sqrt{x + 1}$&nbsp;&nbsp;&nbsp;&nbsp;$D = [-1, \\infty)$<br><br>\n",
    "$f(x) = \\sqrt{x^2 + 5x + 6}$&nbsp;&nbsp;&nbsp;&nbsp;$\\mathbf{R}, x\\neq-3, x\\neq-2$<br><br>\n",
    "$f(x) = \\frac{\\sqrt{x - 1}}{x^2 - 4}$&nbsp;&nbsp;&nbsp;&nbsp;$D = [-1, 2)(2, \\infty)$ \n",
    "- Factoring equations and equate to zero to get the domain; any values inside or outside of the calculated domain will be resulted to undefined.\n",
    "- Equations in the radical even roots must be $\\ge 0$.\n",
    "- Square root at the bottom of the fractions, take the radicand(expression under the root) and ensure it is $\\gt 0$ &nbsp;$(-1, \\infty)$.\n",
    "- Square root on the top of the fractions, the radicands must be $\\ge 0$ or the expression at the bottom cannot be equal to zero.\n",
    "\n",
    "***\n",
    "#### Find the implied domain of the function\n",
    "1.) $f(x) = \\frac{3x}{x + 5}$ &nbsp;&nbsp;&nbsp;&nbsp;$\\mathbb{R}, x \\neq -5$<br><br>\n",
    "2.) $$\n",
    "\n",
    "\n",
    "\n",
    "$--------$\n",
    "1. Brian McLogan, \"Finding the Implied Domain of a Function,\" YouTube, January 26, 2012, , accessed April 23, 2019, https://www.youtube.com/watch?v=xorCl1264F4.\n",
    "\n",
    "2. NancyPi, \"How to Find the Domain of Any Function (NancyPi),\" YouTube, May 15, 2018, , accessed April 24, 2019, https://www.youtube.com/watch?v=GQGFMUfr10M."
   ]
  },
  {
   "cell_type": "code",
   "execution_count": 1,
   "metadata": {},
   "outputs": [],
   "source": [
    "from sympy import *\n",
    "import math\n",
    "from math import *\n",
    "from matplotlib import pyplot as plt\n",
    "from matplotlib.pyplot import xticks\n",
    "from matplotlib.pyplot import figure\n",
    "import numpy as np\n",
    "import pandas as pd\n",
    "init_printing(use_unicode=False, wrap_line=False)"
   ]
  },
  {
   "cell_type": "code",
   "execution_count": 2,
   "metadata": {},
   "outputs": [
    {
     "data": {
      "image/png": "[encoded data removed]",
      "text/latex": [
       "$$-5$$"
      ],
      "text/plain": [
       "-5"
      ]
     },
     "execution_count": 2,
     "metadata": {},
     "output_type": "execute_result"
    }
   ],
   "source": [
    "x = symbols('x')\n",
    "y = (3*x) / (x + 5)\n",
    "\n",
    "x1 = x + 5\n",
    "x2 = solve(x1)\n",
    "x2[0]"
   ]
  },
  {
   "cell_type": "code",
   "execution_count": 3,
   "metadata": {},
   "outputs": [
    {
     "data": {
      "image/png": "[encoded data removed]",
      "text/plain": [
       "<Figure size 432x288 with 1 Axes>"
      ]
     },
     "metadata": {
      "needs_background": "light"
     },
     "output_type": "display_data"
    }
   ],
   "source": [
    "def f(x):\n",
    "    if x != -5:\n",
    "        return (3*x) / (x + 5)\n",
    "        \n",
    "    \n",
    "\n",
    "df = pd.DataFrame({'x': range(-100, 101)})\n",
    "df['y'] = [f(i) for i in df['x']]\n",
    "\n",
    "%matplotlib inline\n",
    "plt.plot(df.x, df.y)\n",
    "\n",
    "# plot an empty circle to show the undefined point\n",
    "plt.plot(0,f(0), color='purple', marker='o', markerfacecolor='w', markersize=8)\n",
    "\n",
    "#print(df)\n",
    "plt.show()\n",
    "    \n",
    "\n",
    "    \n",
    "        "
   ]
  },
  {
   "cell_type": "code",
   "execution_count": null,
   "metadata": {},
   "outputs": [],
   "source": []
  },
  {
   "cell_type": "code",
   "execution_count": null,
   "metadata": {},
   "outputs": [],
   "source": []
  },
  {
   "cell_type": "code",
   "execution_count": null,
   "metadata": {},
   "outputs": [],
   "source": []
  },
  {
   "cell_type": "code",
   "execution_count": null,
   "metadata": {},
   "outputs": [],
   "source": []
  },
  {
   "cell_type": "code",
   "execution_count": null,
   "metadata": {},
   "outputs": [],
   "source": []
  },
  {
   "cell_type": "code",
   "execution_count": null,
   "metadata": {},
   "outputs": [],
   "source": []
  }
 ],
 "metadata": {
  "kernelspec": {
   "display_name": "Python 3",
   "language": "python",
   "name": "python3"
  },
  "language_info": {
   "codemirror_mode": {
    "name": "ipython",
    "version": 3
   },
   "file_extension": ".py",
   "mimetype": "text/x-python",
   "name": "python",
   "nbconvert_exporter": "python",
   "pygments_lexer": "ipython3",
   "version": "3.6.8"
  }
 },
 "nbformat": 4,
 "nbformat_minor": 2
}
