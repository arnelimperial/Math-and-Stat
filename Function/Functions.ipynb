{
 "cells": [
  {
   "cell_type": "markdown",
   "metadata": {},
   "source": [
    "# Functions\n",
    "### Domain of Functions \n",
    "All true or defined x values that can be obtained in the function or sets of valid inputs.\n",
    "$$D = \\mathbb{R} \\ x\\neq0$$\n",
    "\n",
    "### Implied Domain of functions\n",
    "Example:<br>\n",
    "$y = \\frac{1}{x}, x \\neq 0$<br><br>\n",
    "$y = \\sqrt{x}, x \\neq -\\mathbb{R}$<br><br>\n",
    "$f(x) = 3x + 4$&nbsp;&nbsp;&nbsp;&nbsp;$D = \\mathbb{R}$<br><br>\n",
    "$f(x) = \\sqrt{25 - x^2}$&nbsp;&nbsp;&nbsp;&nbsp;$D = [-\\infty, -5)\\cup(5, \\infty]$<br><br>\n",
    "$h(x) = \\frac{x}{x^2 - x + 6}$&nbsp;&nbsp;&nbsp;&nbsp;$\\mathbb{R}, x \\neq$<br><br>\n",
    "$f(x) = | x + 1 |$&nbsp;&nbsp;&nbsp;&nbsp;$D = (-\\infty, \\infty)$ <br><br>\n",
    "$f(x) = \\frac {2} {x^2 + 3}$&nbsp;&nbsp;&nbsp;&nbsp;$\\ D = (-\\infty, \\infty)$ because of restriction of $x^2 \\neq -3$<br><br>\n",
    "$f(x) = \\sqrt{x + 1}$&nbsp;&nbsp;&nbsp;&nbsp;$D = [-1, \\infty)$<br><br>\n",
    "$f(x) = \\sqrt{x^2 + 5x + 6}$&nbsp;&nbsp;&nbsp;&nbsp;$\\mathbf{R}, x\\neq-3, x\\neq-2$<br><br>\n",
    "$f(x) = \\frac{\\sqrt{x - 1}}{x^2 - 4}$&nbsp;&nbsp;&nbsp;&nbsp;$D = [-1, 2)(2, \\infty)$ \n",
    "- Factoring equations and equate to zero to get the domain; any values inside or outside of the calculated domain will be resulted to undefined.\n",
    "- Equations in the radical even roots must be $\\ge 0$.\n",
    "- Square root at the bottom of the fractions, take the radicand(expression under the root) and ensure it is $\\gt 0$ &nbsp;$(-1, \\infty)$.\n",
    "- Square root on the top of the fractions, the radicands must be $\\ge 0$ or the expression at the bottom cannot be equal to zero.\n",
    "- Division by zero cannot be a domain.\n",
    "\n",
    "***\n",
    "#### Find the implied domain of the function\n",
    "1.) $f(x) = \\frac{3x}{x + 5}$ &nbsp;&nbsp;&nbsp;&nbsp;$D = \\mathbb{R}, x \\neq -5$ or $(-\\infty, -3)\\cup (-3, \\infty)$<br><br>\n",
    "2.) $g(x) = \\sqrt{x + 3}$ &nbsp;&nbsp;&nbsp;&nbsp;$D = (-\\infty, -3)\\cup (-3, \\infty)$<br><br>\n",
    "\n",
    "\n",
    "### Range of functions\n",
    "Sets of all possible y values or valid outputs.\n",
    "\n",
    "- Solve for the inverse to find the range of function. Replace with y and swap the variables (x and y).\n",
    "- Always check the value the domain and vertex of the equation as y.\n",
    "##### Example solution\n",
    "\n",
    "$g(x) = 3x^2 + 6x -2$&nbsp;&nbsp;$Range = [-5, \\infty)$\n",
    "\n",
    "\n",
    "$--------$\n",
    "1. Brian McLogan, \"Finding the Implied Domain of a Function,\" YouTube, January 26, 2012, , accessed April 23, 2019, https://www.youtube.com/watch?v=xorCl1264F4.\n",
    "\n",
    "2. NancyPi, \"How to Find the Domain of Any Function (NancyPi),\" YouTube, May 15, 2018, , accessed April 24, 2019, https://www.youtube.com/watch?v=GQGFMUfr10M."
   ]
  },
  {
   "cell_type": "code",
   "execution_count": 1,
   "metadata": {},
   "outputs": [],
   "source": [
    "from sympy import *\n",
    "import math\n",
    "from math import sqrt\n",
    "from matplotlib import pyplot as plt\n",
    "from matplotlib.pyplot import xticks\n",
    "from matplotlib.pyplot import figure\n",
    "import numpy as np\n",
    "import pandas as pd\n",
    "#init_printing(use_unicode=False, wrap_line=False)"
   ]
  },
  {
   "cell_type": "code",
   "execution_count": 2,
   "metadata": {},
   "outputs": [
    {
     "data": {
      "text/plain": [
       "-5"
      ]
     },
     "execution_count": 2,
     "metadata": {},
     "output_type": "execute_result"
    }
   ],
   "source": [
    "x = symbols('x')\n",
    "y = (3*x) / (x + 5)\n",
    "\n",
    "x1 = x + 5\n",
    "x2 = solve(x1)\n",
    "x2[0]"
   ]
  },
  {
   "cell_type": "code",
   "execution_count": 3,
   "metadata": {},
   "outputs": [
    {
     "name": "stdout",
     "output_type": "stream",
     "text": [
      "     x          y\n",
      "0  -10   6.000000\n",
      "1   -9   6.750000\n",
      "2   -8   8.000000\n",
      "3   -7  10.500000\n",
      "4   -6  18.000000\n",
      "5   -5        NaN\n",
      "6   -4 -12.000000\n",
      "7   -3  -4.500000\n",
      "8   -2  -2.000000\n",
      "9   -1  -0.750000\n",
      "10   0   0.000000\n",
      "11   1   0.500000\n",
      "12   2   0.857143\n",
      "13   3   1.125000\n",
      "14   4   1.333333\n",
      "15   5   1.500000\n",
      "16   6   1.636364\n",
      "17   7   1.750000\n",
      "18   8   1.846154\n",
      "19   9   1.928571\n",
      "20  10   2.000000\n"
     ]
    },
    {
     "data": {
      "image/png": "[encoded data removed]",
      "text/plain": [
       "<Figure size 432x288 with 1 Axes>"
      ]
     },
     "metadata": {
      "needs_background": "light"
     },
     "output_type": "display_data"
    }
   ],
   "source": [
    "# Create function\n",
    "def f(x):\n",
    "    if x != -5:\n",
    "        return (3*x) / (x + 5)\n",
    "        \n",
    "    \n",
    "df = pd.DataFrame({'x': range(-10, 11)})\n",
    "df['y'] = [f(i) for i in df['x']]\n",
    "\n",
    "%matplotlib inline\n",
    "#figure(num=None, figsize=(10, 7), dpi=80, facecolor='w', edgecolor='k')\n",
    "plt.plot(df.x, df.y, color='grey')\n",
    "#plt.axvline()\n",
    "#plt.axhline()\n",
    "#xticks(df.x)\n",
    "\n",
    "# plot an empty circle to show the undefined point\n",
    "plt.plot(0,f(0), color='purple', marker='o', markerfacecolor='w', markersize=8)\n",
    "\n",
    "print(df)\n",
    "plt.show()\n",
    "    \n",
    "\n",
    "    \n",
    "        "
   ]
  },
  {
   "cell_type": "code",
   "execution_count": null,
   "metadata": {},
   "outputs": [],
   "source": []
  },
  {
   "cell_type": "code",
   "execution_count": 4,
   "metadata": {},
   "outputs": [
    {
     "data": {
      "text/plain": [
       "[-3]"
      ]
     },
     "execution_count": 4,
     "metadata": {},
     "output_type": "execute_result"
    }
   ],
   "source": [
    "# Samle Problem g(x) = sqrt(x + 3)\n",
    "import sympy\n",
    "k = sympy.sqrt(x + 3)\n",
    "solve(k)\n",
    "\n",
    "    "
   ]
  },
  {
   "cell_type": "code",
   "execution_count": 5,
   "metadata": {},
   "outputs": [
    {
     "data": {
      "text/plain": [
       "(2*y - 1)/(y + 4)"
      ]
     },
     "execution_count": 5,
     "metadata": {},
     "output_type": "execute_result"
    }
   ],
   "source": [
    "import sympy \n",
    "x, y = sympy.symbols('x y')\n",
    "simplify(2*y -1) / (y + 4)\n",
    "\n",
    "#print(x.subs(y, 1/2))\n"
   ]
  },
  {
   "cell_type": "code",
   "execution_count": 6,
   "metadata": {},
   "outputs": [
    {
     "data": {
      "text/plain": [
       "x"
      ]
     },
     "execution_count": 6,
     "metadata": {},
     "output_type": "execute_result"
    }
   ],
   "source": [
    "simplify(x)"
   ]
  },
  {
   "cell_type": "code",
   "execution_count": 7,
   "metadata": {},
   "outputs": [
    {
     "data": {
      "text/plain": [
       "x**2 + 2*x + 1"
      ]
     },
     "execution_count": 7,
     "metadata": {},
     "output_type": "execute_result"
    }
   ],
   "source": [
    "simplify(x**2 + 2*x + 1)\n"
   ]
  },
  {
   "cell_type": "code",
   "execution_count": 8,
   "metadata": {},
   "outputs": [
    {
     "data": {
      "text/plain": [
       "-1.0"
      ]
     },
     "execution_count": 8,
     "metadata": {},
     "output_type": "execute_result"
    }
   ],
   "source": [
    "import sympy\n",
    "x, b, a, c = sympy.symbols('x a b c')\n",
    "\n",
    "v = (3*x**2) + (6*x) -2\n",
    "a = 3\n",
    "b = 6\n",
    "c = -2\n",
    "vx = (-1*b)/(2 * a)\n",
    "vx\n",
    "vy = ((4*a*c) - (b**2)) / (4*a)\n",
    "\n",
    "vx"
   ]
  },
  {
   "cell_type": "code",
   "execution_count": 9,
   "metadata": {},
   "outputs": [
    {
     "name": "stdout",
     "output_type": "stream",
     "text": [
      "Vertex of 3*x**2 + 6*x - 2: (-1.0, -5.0)\n"
     ]
    }
   ],
   "source": [
    "print('Vertex of {}: ({}, {})'.format(v, vx, vy))"
   ]
  },
  {
   "cell_type": "code",
   "execution_count": 10,
   "metadata": {},
   "outputs": [
    {
     "name": "stdout",
     "output_type": "stream",
     "text": [
      "     x    y\n",
      "0  -11  295\n",
      "1  -10  238\n",
      "2   -9  187\n",
      "3   -8  142\n",
      "4   -7  103\n",
      "5   -6   70\n",
      "6   -5   43\n",
      "7   -4   22\n",
      "8   -3    7\n",
      "9   -2   -2\n",
      "10  -1   -5\n",
      "11   0   -2\n",
      "12   1    7\n",
      "13   2   22\n",
      "14   3   43\n",
      "15   4   70\n",
      "16   5  103\n",
      "17   6  142\n",
      "18   7  187\n",
      "19   8  238\n"
     ]
    },
    {
     "data": {
      "image/png": "[encoded data removed]",
      "text/plain": [
       "<Figure size 432x288 with 1 Axes>"
      ]
     },
     "metadata": {
      "needs_background": "light"
     },
     "output_type": "display_data"
    },
    {
     "name": "stdout",
     "output_type": "stream",
     "text": [
      "None\n",
      "None\n"
     ]
    },
    {
     "data": {
      "image/png": "[encoded data removed]",
      "text/plain": [
       "<Figure size 432x288 with 1 Axes>"
      ]
     },
     "metadata": {
      "needs_background": "light"
     },
     "output_type": "display_data"
    }
   ],
   "source": [
    "#g(x) = 3*x**2 + 6*x - 2\n",
    "import pandas as pd\n",
    "from matplotlib import pyplot as plt\n",
    "\n",
    "def parabola(a, b, c):\n",
    "    vx = (-1*b)/(2 * a)\n",
    "    vy = ((4*a*c) - (b**2)) / (4*a)\n",
    "    \n",
    "    xmin = int(vx -10)\n",
    "    xmax = int(vx + 10)\n",
    "    \n",
    "    df = pd.DataFrame({'x': range(xmin, xmax)})\n",
    "    df['y'] = a*df['x']**2 + b*df['x'] + c\n",
    "    \n",
    "    ymin= df.y.min()\n",
    "    ymax = df.y.max()\n",
    "    \n",
    "    plt.plot(df.x, df.y, color='m')\n",
    "    \n",
    "    #Line of symmetry\n",
    "    sx = [vx, vx]\n",
    "    sy = [ymin, ymax]\n",
    "    plt.plot(sx, sy, '--.k')\n",
    "    \n",
    "    #vertex\n",
    "    plt.scatter(vx, vy, color='k')\n",
    "    plt.annotate('vertex= '+ str(vx)+ ','+ str(vy),(vx, vy), color='r')\n",
    "    \n",
    "    \n",
    "    \n",
    "    print(df)\n",
    "    print(plt.show())\n",
    "    \n",
    "print(parabola(3, 6, -2))\n",
    "\n",
    "\n",
    "\n",
    "#Plotting the function\n",
    "def g(x):\n",
    "    return 3*x**2 + 6*x - 2\n",
    "\n",
    "\n",
    "x = np.array(range(-10, 11))\n",
    "\n",
    "y = [g(i) for i in x]\n",
    "\n",
    "%matplotlib inline\n",
    "plt.plot(x, y)\n",
    "plt.show()"
   ]
  }
 ],
 "metadata": {
  "kernelspec": {
   "display_name": "Python 3",
   "language": "python",
   "name": "python3"
  },
  "language_info": {
   "codemirror_mode": {
    "name": "ipython",
    "version": 3
   },
   "file_extension": ".py",
   "mimetype": "text/x-python",
   "name": "python",
   "nbconvert_exporter": "python",
   "pygments_lexer": "ipython3",
   "version": "3.6.8"
  }
 },
 "nbformat": 4,
 "nbformat_minor": 2
}
